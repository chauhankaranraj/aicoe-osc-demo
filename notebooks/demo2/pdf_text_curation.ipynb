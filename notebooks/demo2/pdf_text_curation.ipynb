{
 "cells": [
  {
   "cell_type": "markdown",
   "metadata": {},
   "source": [
    "# Text Curation\n",
    "As the second step of the pipeline, the notebook aims to take the extracted text from PDFs and annotated files to create the curated training set for the language model. The extracted text for this notebook is in the `ROOT/data/extraction` directory and the output csv dataset will be stored in `ROOT/data/curation` directory. The Curator class finds positive labels from annoated files and creates negative examples from the extracted text. The output dataset from this notebook will be used for the next step of the pipeline, i.e., training the model. "
   ]
  },
  {
   "cell_type": "code",
   "execution_count": 1,
   "metadata": {},
   "outputs": [],
   "source": [
    "# Author: ALLIANZ NLP esg data pipeline\n",
    "import os\n",
    "import pathlib\n",
    "from dotenv import load_dotenv\n",
    "\n",
    "\n",
    "import config\n",
    "from src.components.preprocessing import Curator\n",
    "from src.data.s3_communication import S3Communication"
   ]
  },
  {
   "cell_type": "code",
   "execution_count": 2,
   "metadata": {},
   "outputs": [],
   "source": [
    "# Load credentials\n",
    "dotenv_dir = os.environ.get(\n",
    "    \"CREDENTIAL_DOTENV_DIR\", os.environ.get(\"PWD\", \"/opt/app-root/src\")\n",
    ")\n",
    "dotenv_path = pathlib.Path(dotenv_dir) / \"credentials.env\"\n",
    "if os.path.exists(dotenv_path):\n",
    "    load_dotenv(dotenv_path=dotenv_path, override=True)"
   ]
  },
  {
   "cell_type": "code",
   "execution_count": 3,
   "metadata": {},
   "outputs": [],
   "source": [
    "# init s3 connector\n",
    "s3c = S3Communication(\n",
    "    s3_endpoint_url=os.getenv(\"S3_ENDPOINT\"),\n",
    "    aws_access_key_id=os.getenv(\"S3_ACCESS_KEY\"),\n",
    "    aws_secret_access_key=os.getenv(\"S3_SECRET_KEY\"),\n",
    "    s3_bucket=os.getenv(\"S3_BUCKET\"),\n",
    ")"
   ]
  },
  {
   "cell_type": "code",
   "execution_count": 4,
   "metadata": {},
   "outputs": [],
   "source": [
    "# download the files created by the extraction phase\n",
    "s3c.download_files_in_prefix_to_dir(\n",
    "    config.BASE_EXTRACTION_S3_PREFIX,\n",
    "    config.BASE_EXTRACTION_FOLDER,\n",
    ")"
   ]
  },
  {
   "cell_type": "code",
   "execution_count": 5,
   "metadata": {},
   "outputs": [],
   "source": [
    "# download the annoatation files\n",
    "s3c.download_files_in_prefix_to_dir(\n",
    "    config.BASE_ANNOTATION_S3_PREFIX,\n",
    "    config.BASE_ANNOTATION_FOLDER,\n",
    ")"
   ]
  },
  {
   "cell_type": "code",
   "execution_count": 2,
   "metadata": {},
   "outputs": [],
   "source": [
    "# XLS = os.path.join(config.BASE_ANNOTATION_FOLDER, \"ESG\")\n",
    "# EXT_FOLDER = config.BASE_EXTRACTION_FOLDER\n",
    "# CUR_FOLDER = config.BASE_CURATION_FOLDER"
   ]
  },
  {
   "cell_type": "markdown",
   "metadata": {},
   "source": [
    "### Call text Curator"
   ]
  },
  {
   "cell_type": "code",
   "execution_count": 6,
   "metadata": {},
   "outputs": [],
   "source": [
    "SEED = 42\n",
    "TextCurator_kwargs = {\n",
    "    \"retrieve_paragraph\": False,\n",
    "    \"neg_pos_ratio\": 1,\n",
    "    \"columns_to_read\": [\n",
    "        \"company\",\n",
    "        \"source_file\",\n",
    "        \"source_page\",\n",
    "        \"kpi_id\",\n",
    "        \"year\",\n",
    "        \"answer\",\n",
    "        \"data_type\",\n",
    "        \"relevant_paragraphs\",\n",
    "    ],\n",
    "    \"company_to_exclude\": [],\n",
    "    \"create_neg_samples\": True,\n",
    "    \"seed\": SEED,\n",
    "}"
   ]
  },
  {
   "cell_type": "code",
   "execution_count": 7,
   "metadata": {},
   "outputs": [
    {
     "name": "stderr",
     "output_type": "stream",
     "text": [
      "Could not process row number 15 in 20201030 1Qbit aggregated_annotations_needs_correction.xlsx\n",
      "Could not process row number 16 in 20201030 1Qbit aggregated_annotations_needs_correction.xlsx\n",
      "Could not process row number 17 in 20201030 1Qbit aggregated_annotations_needs_correction.xlsx\n",
      "Could not process row number 18 in 20201030 1Qbit aggregated_annotations_needs_correction.xlsx\n",
      "Could not process row number 37 in 20201030 1Qbit aggregated_annotations_needs_correction.xlsx\n",
      "Could not process row number 165 in 20201030 1Qbit aggregated_annotations_needs_correction.xlsx\n",
      "Could not process row number 166 in 20201030 1Qbit aggregated_annotations_needs_correction.xlsx\n",
      "Could not process row number 167 in 20201030 1Qbit aggregated_annotations_needs_correction.xlsx\n",
      "Could not process row number 179 in 20201030 1Qbit aggregated_annotations_needs_correction.xlsx\n",
      "Could not process row number 180 in 20201030 1Qbit aggregated_annotations_needs_correction.xlsx\n",
      "Could not process row number 309 in 20201030 1Qbit aggregated_annotations_needs_correction.xlsx\n",
      "Could not process row number 349 in 20201030 1Qbit aggregated_annotations_needs_correction.xlsx\n",
      "Could not process row number 350 in 20201030 1Qbit aggregated_annotations_needs_correction.xlsx\n",
      "Could not process row number 351 in 20201030 1Qbit aggregated_annotations_needs_correction.xlsx\n",
      "Could not process row number 352 in 20201030 1Qbit aggregated_annotations_needs_correction.xlsx\n",
      "Could not process row number 363 in 20201030 1Qbit aggregated_annotations_needs_correction.xlsx\n",
      "Could not process row number 370 in 20201030 1Qbit aggregated_annotations_needs_correction.xlsx\n",
      "Could not process row number 371 in 20201030 1Qbit aggregated_annotations_needs_correction.xlsx\n",
      "Could not process row number 372 in 20201030 1Qbit aggregated_annotations_needs_correction.xlsx\n",
      "Could not process row number 373 in 20201030 1Qbit aggregated_annotations_needs_correction.xlsx\n",
      "Could not process row number 389 in 20201030 1Qbit aggregated_annotations_needs_correction.xlsx\n",
      "Could not process row number 399 in 20201030 1Qbit aggregated_annotations_needs_correction.xlsx\n",
      "Could not process row number 400 in 20201030 1Qbit aggregated_annotations_needs_correction.xlsx\n",
      "Could not process row number 401 in 20201030 1Qbit aggregated_annotations_needs_correction.xlsx\n",
      "Could not process row number 402 in 20201030 1Qbit aggregated_annotations_needs_correction.xlsx\n",
      "Could not process row number 416 in 20201030 1Qbit aggregated_annotations_needs_correction.xlsx\n",
      "Could not process row number 462 in 20201030 1Qbit aggregated_annotations_needs_correction.xlsx\n",
      "Could not process row number 466 in 20201030 1Qbit aggregated_annotations_needs_correction.xlsx\n",
      "Could not process row number 470 in 20201030 1Qbit aggregated_annotations_needs_correction.xlsx\n",
      "Could not process row number 532 in 20201030 1Qbit aggregated_annotations_needs_correction.xlsx\n",
      "Could not process row number 902 in 20201030 1Qbit aggregated_annotations_needs_correction.xlsx\n",
      "Could not process row number 913 in 20201030 1Qbit aggregated_annotations_needs_correction.xlsx\n",
      "Could not process row number 980 in 20201030 1Qbit aggregated_annotations_needs_correction.xlsx\n",
      "Could not process row number 1008 in 20201030 1Qbit aggregated_annotations_needs_correction.xlsx\n",
      "Could not process row number 1011 in 20201030 1Qbit aggregated_annotations_needs_correction.xlsx\n",
      "Could not process row number 1014 in 20201030 1Qbit aggregated_annotations_needs_correction.xlsx\n",
      "Could not process row number 1024 in 20201030 1Qbit aggregated_annotations_needs_correction.xlsx\n",
      "Could not process row number 1025 in 20201030 1Qbit aggregated_annotations_needs_correction.xlsx\n",
      "Could not process row number 1086 in 20201030 1Qbit aggregated_annotations_needs_correction.xlsx\n",
      "Could not process row number 1098 in 20201030 1Qbit aggregated_annotations_needs_correction.xlsx\n",
      "Could not process row number 1130 in 20201030 1Qbit aggregated_annotations_needs_correction.xlsx\n",
      "Could not process row number 1310 in 20201030 1Qbit aggregated_annotations_needs_correction.xlsx\n",
      "Could not process row number 1311 in 20201030 1Qbit aggregated_annotations_needs_correction.xlsx\n",
      "Could not process row number 1326 in 20201030 1Qbit aggregated_annotations_needs_correction.xlsx\n",
      "Could not process row number 1327 in 20201030 1Qbit aggregated_annotations_needs_correction.xlsx\n",
      "Could not process row number 1329 in 20201030 1Qbit aggregated_annotations_needs_correction.xlsx\n",
      "Could not process row number 1334 in 20201030 1Qbit aggregated_annotations_needs_correction.xlsx\n",
      "Could not process row number 1335 in 20201030 1Qbit aggregated_annotations_needs_correction.xlsx\n",
      "Could not process row number 1343 in 20201030 1Qbit aggregated_annotations_needs_correction.xlsx\n",
      "Could not process row number 1347 in 20201030 1Qbit aggregated_annotations_needs_correction.xlsx\n",
      "Could not process row number 1348 in 20201030 1Qbit aggregated_annotations_needs_correction.xlsx\n",
      "Could not process row number 1359 in 20201030 1Qbit aggregated_annotations_needs_correction.xlsx\n",
      "Could not process row number 1360 in 20201030 1Qbit aggregated_annotations_needs_correction.xlsx\n",
      "Could not process row number 1375 in 20201030 1Qbit aggregated_annotations_needs_correction.xlsx\n",
      "Could not process row number 1382 in 20201030 1Qbit aggregated_annotations_needs_correction.xlsx\n",
      "Could not process row number 1390 in 20201030 1Qbit aggregated_annotations_needs_correction.xlsx\n",
      "Could not process row number 1404 in 20201030 1Qbit aggregated_annotations_needs_correction.xlsx\n",
      "Could not process row number 1405 in 20201030 1Qbit aggregated_annotations_needs_correction.xlsx\n",
      "Could not process row number 1406 in 20201030 1Qbit aggregated_annotations_needs_correction.xlsx\n",
      "Could not process row number 1415 in 20201030 1Qbit aggregated_annotations_needs_correction.xlsx\n",
      "Could not process row number 1416 in 20201030 1Qbit aggregated_annotations_needs_correction.xlsx\n",
      "Could not process row number 1418 in 20201030 1Qbit aggregated_annotations_needs_correction.xlsx\n",
      "Could not process row number 1419 in 20201030 1Qbit aggregated_annotations_needs_correction.xlsx\n",
      "Could not process row number 1422 in 20201030 1Qbit aggregated_annotations_needs_correction.xlsx\n",
      "Could not process row number 1423 in 20201030 1Qbit aggregated_annotations_needs_correction.xlsx\n",
      "Could not process row number 1424 in 20201030 1Qbit aggregated_annotations_needs_correction.xlsx\n",
      "Could not process row number 1442 in 20201030 1Qbit aggregated_annotations_needs_correction.xlsx\n",
      "Could not process row number 1444 in 20201030 1Qbit aggregated_annotations_needs_correction.xlsx\n",
      "Could not process row number 1445 in 20201030 1Qbit aggregated_annotations_needs_correction.xlsx\n",
      "Could not process row number 1450 in 20201030 1Qbit aggregated_annotations_needs_correction.xlsx\n",
      "Could not process row number 1451 in 20201030 1Qbit aggregated_annotations_needs_correction.xlsx\n",
      "Could not process row number 1614 in 20201030 1Qbit aggregated_annotations_needs_correction.xlsx\n",
      "Could not process row number 1615 in 20201030 1Qbit aggregated_annotations_needs_correction.xlsx\n",
      "Could not process row number 1657 in 20201030 1Qbit aggregated_annotations_needs_correction.xlsx\n",
      "Could not process row number 1658 in 20201030 1Qbit aggregated_annotations_needs_correction.xlsx\n",
      "Could not process row number 1664 in 20201030 1Qbit aggregated_annotations_needs_correction.xlsx\n",
      "Could not process row number 1665 in 20201030 1Qbit aggregated_annotations_needs_correction.xlsx\n",
      "Could not process row number 1700 in 20201030 1Qbit aggregated_annotations_needs_correction.xlsx\n",
      "Could not process row number 1703 in 20201030 1Qbit aggregated_annotations_needs_correction.xlsx\n",
      "Could not process row number 1704 in 20201030 1Qbit aggregated_annotations_needs_correction.xlsx\n",
      "Could not process row number 1705 in 20201030 1Qbit aggregated_annotations_needs_correction.xlsx\n",
      "Could not process row number 1706 in 20201030 1Qbit aggregated_annotations_needs_correction.xlsx\n",
      "Could not process row number 1707 in 20201030 1Qbit aggregated_annotations_needs_correction.xlsx\n",
      "Could not process row number 1749 in 20201030 1Qbit aggregated_annotations_needs_correction.xlsx\n",
      "Could not process row number 1750 in 20201030 1Qbit aggregated_annotations_needs_correction.xlsx\n",
      "Could not process row number 1861 in 20201030 1Qbit aggregated_annotations_needs_correction.xlsx\n",
      "Could not process row number 1881 in 20201030 1Qbit aggregated_annotations_needs_correction.xlsx\n",
      "Could not process row number 1882 in 20201030 1Qbit aggregated_annotations_needs_correction.xlsx\n",
      "Could not process row number 1883 in 20201030 1Qbit aggregated_annotations_needs_correction.xlsx\n",
      "Could not process row number 1886 in 20201030 1Qbit aggregated_annotations_needs_correction.xlsx\n",
      "Could not process row number 1992 in 20201030 1Qbit aggregated_annotations_needs_correction.xlsx\n",
      "Could not process row number 1993 in 20201030 1Qbit aggregated_annotations_needs_correction.xlsx\n",
      "Could not process row number 2017 in 20201030 1Qbit aggregated_annotations_needs_correction.xlsx\n",
      "Could not process row number 2018 in 20201030 1Qbit aggregated_annotations_needs_correction.xlsx\n",
      "Could not process row number 2235 in 20201030 1Qbit aggregated_annotations_needs_correction.xlsx\n",
      "Could not process row number 2236 in 20201030 1Qbit aggregated_annotations_needs_correction.xlsx\n",
      "Could not process row number 2242 in 20201030 1Qbit aggregated_annotations_needs_correction.xlsx\n",
      "Could not process row number 2274 in 20201030 1Qbit aggregated_annotations_needs_correction.xlsx\n",
      "Could not process row number 2283 in 20201030 1Qbit aggregated_annotations_needs_correction.xlsx\n",
      "Could not process row number 2284 in 20201030 1Qbit aggregated_annotations_needs_correction.xlsx\n",
      "Could not process row number 2314 in 20201030 1Qbit aggregated_annotations_needs_correction.xlsx\n",
      "Could not process row number 2326 in 20201030 1Qbit aggregated_annotations_needs_correction.xlsx\n",
      "Could not process row number 2332 in 20201030 1Qbit aggregated_annotations_needs_correction.xlsx\n",
      "Could not process row number 2337 in 20201030 1Qbit aggregated_annotations_needs_correction.xlsx\n",
      "Could not process row number 2343 in 20201030 1Qbit aggregated_annotations_needs_correction.xlsx\n",
      "Could not process row number 2344 in 20201030 1Qbit aggregated_annotations_needs_correction.xlsx\n",
      "Could not process row number 2348 in 20201030 1Qbit aggregated_annotations_needs_correction.xlsx\n",
      "Could not process row number 2349 in 20201030 1Qbit aggregated_annotations_needs_correction.xlsx\n",
      "Could not process row number 2350 in 20201030 1Qbit aggregated_annotations_needs_correction.xlsx\n",
      "Could not process row number 2371 in 20201030 1Qbit aggregated_annotations_needs_correction.xlsx\n",
      "Could not process row number 2430 in 20201030 1Qbit aggregated_annotations_needs_correction.xlsx\n",
      "Could not process row number 2431 in 20201030 1Qbit aggregated_annotations_needs_correction.xlsx\n",
      "Could not process row number 2432 in 20201030 1Qbit aggregated_annotations_needs_correction.xlsx\n",
      "Could not process row number 2457 in 20201030 1Qbit aggregated_annotations_needs_correction.xlsx\n",
      "Could not process row number 2471 in 20201030 1Qbit aggregated_annotations_needs_correction.xlsx\n",
      "Could not process row number 2472 in 20201030 1Qbit aggregated_annotations_needs_correction.xlsx\n",
      "Could not process row number 2473 in 20201030 1Qbit aggregated_annotations_needs_correction.xlsx\n",
      "Could not process row number 2556 in 20201030 1Qbit aggregated_annotations_needs_correction.xlsx\n",
      "Could not process row number 2593 in 20201030 1Qbit aggregated_annotations_needs_correction.xlsx\n",
      "Could not process row number 2719 in 20201030 1Qbit aggregated_annotations_needs_correction.xlsx\n",
      "Could not process row number 2723 in 20201030 1Qbit aggregated_annotations_needs_correction.xlsx\n",
      "Could not process row number 2891 in 20201030 1Qbit aggregated_annotations_needs_correction.xlsx\n",
      "Could not process row number 2892 in 20201030 1Qbit aggregated_annotations_needs_correction.xlsx\n",
      "Could not process row number 2893 in 20201030 1Qbit aggregated_annotations_needs_correction.xlsx\n",
      "Could not process row number 2932 in 20201030 1Qbit aggregated_annotations_needs_correction.xlsx\n",
      "Could not process row number 2933 in 20201030 1Qbit aggregated_annotations_needs_correction.xlsx\n",
      "Could not process row number 2934 in 20201030 1Qbit aggregated_annotations_needs_correction.xlsx\n",
      "Could not process row number 3040 in 20201030 1Qbit aggregated_annotations_needs_correction.xlsx\n",
      "Could not process row number 3041 in 20201030 1Qbit aggregated_annotations_needs_correction.xlsx\n",
      "Could not process row number 3042 in 20201030 1Qbit aggregated_annotations_needs_correction.xlsx\n",
      "Could not process row number 3043 in 20201030 1Qbit aggregated_annotations_needs_correction.xlsx\n",
      "Could not process row number 3068 in 20201030 1Qbit aggregated_annotations_needs_correction.xlsx\n",
      "Could not process row number 3069 in 20201030 1Qbit aggregated_annotations_needs_correction.xlsx\n",
      "Could not process row number 3082 in 20201030 1Qbit aggregated_annotations_needs_correction.xlsx\n",
      "Could not process row number 3087 in 20201030 1Qbit aggregated_annotations_needs_correction.xlsx\n",
      "Could not process row number 3098 in 20201030 1Qbit aggregated_annotations_needs_correction.xlsx\n",
      "Could not process row number 3103 in 20201030 1Qbit aggregated_annotations_needs_correction.xlsx\n",
      "Could not process row number 3104 in 20201030 1Qbit aggregated_annotations_needs_correction.xlsx\n",
      "Could not process row number 3109 in 20201030 1Qbit aggregated_annotations_needs_correction.xlsx\n",
      "Could not process row number 3138 in 20201030 1Qbit aggregated_annotations_needs_correction.xlsx\n",
      "Could not process row number 3139 in 20201030 1Qbit aggregated_annotations_needs_correction.xlsx\n",
      "Could not process row number 3168 in 20201030 1Qbit aggregated_annotations_needs_correction.xlsx\n",
      "Could not process row number 3169 in 20201030 1Qbit aggregated_annotations_needs_correction.xlsx\n",
      "Could not process row number 3224 in 20201030 1Qbit aggregated_annotations_needs_correction.xlsx\n",
      "Could not process row number 3284 in 20201030 1Qbit aggregated_annotations_needs_correction.xlsx\n",
      "Could not process row number 3291 in 20201030 1Qbit aggregated_annotations_needs_correction.xlsx\n",
      "Could not process row number 3346 in 20201030 1Qbit aggregated_annotations_needs_correction.xlsx\n",
      "Could not process row number 3360 in 20201030 1Qbit aggregated_annotations_needs_correction.xlsx\n",
      "Could not process row number 3425 in 20201030 1Qbit aggregated_annotations_needs_correction.xlsx\n",
      "The corresponding KPIs can not be mapped             to any questions and the mapped question is empty\n",
      "[6.7]\n"
     ]
    }
   ],
   "source": [
    "cur = Curator([(\"TextCurator\", TextCurator_kwargs)])\n",
    "cur.run(config.BASE_EXTRACTION_FOLDER, config.BASE_ANNOTATION_FOLDER, config.BASE_CURATION_FOLDER)"
   ]
  },
  {
   "cell_type": "code",
   "execution_count": 10,
   "metadata": {},
   "outputs": [
    {
     "data": {
      "text/plain": [
       "200"
      ]
     },
     "execution_count": 10,
     "metadata": {},
     "output_type": "execute_result"
    }
   ],
   "source": [
    "# upload the curation file to s3\n",
    "ret = s3c.upload_file_to_s3(\n",
    "    config.BASE_CURATION_FOLDER / \"esg_TEXT_dataset.csv\",\n",
    "    config.BASE_CURATION_S3_PREFIX,\n",
    "    \"esg_TEXT_dataset.csv\",\n",
    ")\n",
    "ret['ResponseMetadata']['HTTPStatusCode']"
   ]
  },
  {
   "cell_type": "markdown",
   "metadata": {},
   "source": [
    "### Conclusion\n",
    "We called the Curator class to combine extracted text and annotated files and store the ouput in the `ROOT/data/curation` folder."
   ]
  }
 ],
 "metadata": {
  "kernelspec": {
   "display_name": "Python 3 (ipykernel)",
   "language": "python",
   "name": "python3"
  },
  "language_info": {
   "codemirror_mode": {
    "name": "ipython",
    "version": 3
   },
   "file_extension": ".py",
   "mimetype": "text/x-python",
   "name": "python",
   "nbconvert_exporter": "python",
   "pygments_lexer": "ipython3",
   "version": "3.8.11"
  }
 },
 "nbformat": 4,
 "nbformat_minor": 4
}
