{
 "cells": [
  {
   "cell_type": "markdown",
   "metadata": {},
   "source": [
    "# Text Extraction\n",
    "As a first step of the pipeline, we aim to extract text from PDFs in this notebook. The input PDFs for this notebook is in the `ROOT/data/pdfs` directory and the output json will be stored in `ROOT/data/extract` directory. The output from this notebook combined with the annotations will be used in the next step of curation."
   ]
  },
  {
   "cell_type": "code",
   "execution_count": 9,
   "metadata": {},
   "outputs": [],
   "source": [
    "# Author: ALLIANZ NLP esg data pipeline\n",
    "import os\n",
    "import pathlib\n",
    "from dotenv import load_dotenv\n",
    "from pathlib import Path\n",
    "\n",
    "import config\n",
    "from src.components.preprocessing import Extractor\n",
    "from src.data.s3_communication import S3Communication"
   ]
  },
  {
   "cell_type": "code",
   "execution_count": 10,
   "metadata": {},
   "outputs": [],
   "source": [
    "# Load credentials\n",
    "dotenv_dir = os.environ.get(\n",
    "    \"CREDENTIAL_DOTENV_DIR\", os.environ.get(\"PWD\", \"/opt/app-root/src\")\n",
    ")\n",
    "dotenv_path = pathlib.Path(dotenv_dir) / \"credentials.env\"\n",
    "if os.path.exists(dotenv_path):\n",
    "    load_dotenv(dotenv_path=dotenv_path, override=True)"
   ]
  },
  {
   "cell_type": "code",
   "execution_count": 11,
   "metadata": {},
   "outputs": [],
   "source": [
    "# init s3 connector\n",
    "s3c = S3Communication(\n",
    "    s3_endpoint_url=os.getenv(\"S3_ENDPOINT\"),\n",
    "    aws_access_key_id=os.getenv(\"S3_ACCESS_KEY\"),\n",
    "    aws_secret_access_key=os.getenv(\"S3_SECRET_KEY\"),\n",
    "    s3_bucket=os.getenv(\"S3_BUCKET\"),\n",
    ")"
   ]
  },
  {
   "cell_type": "code",
   "execution_count": 12,
   "metadata": {},
   "outputs": [],
   "source": [
    "if not os.path.exists(config.CHECKPOINT_FOLDER):\n",
    "    config.CHECKPOINT_FOLDER.mkdir(parents=True, exist_ok=True)\n",
    "\n",
    "if not os.path.exists(config.BASE_PDF_FOLDER):\n",
    "    config.BASE_PDF_FOLDER.mkdir(parents=True, exist_ok=True)\n",
    "\n",
    "if not os.path.exists(config.BASE_EXTRACTION_FOLDER):\n",
    "    config.BASE_EXTRACTION_FOLDER.mkdir(parents=True, exist_ok=True)"
   ]
  },
  {
   "cell_type": "code",
   "execution_count": 13,
   "metadata": {},
   "outputs": [],
   "source": [
    "# download all files from which text is to be extracted\n",
    "s3c.download_files_in_prefix_to_dir(\n",
    "    config.BASE_PDF_S3_PREFIX,\n",
    "    config.BASE_PDF_FOLDER,\n",
    ")"
   ]
  },
  {
   "cell_type": "markdown",
   "metadata": {},
   "source": [
    "### Call text extracter"
   ]
  },
  {
   "cell_type": "code",
   "execution_count": 14,
   "metadata": {},
   "outputs": [],
   "source": [
    "PDFTextExtractor_kwargs = {\n",
    "    \"min_paragraph_length\": 30,\n",
    "    \"annotation_folder\": None,\n",
    "    \"skip_extracted_files\": False,\n",
    "}"
   ]
  },
  {
   "cell_type": "code",
   "execution_count": 15,
   "metadata": {},
   "outputs": [
    {
     "name": "stdout",
     "output_type": "stream",
     "text": [
      "['/opt/app-root/src/pipeline/aicoe-osc-demo/data/pdfs/sustainability-report-2019.pdf']\n"
     ]
    }
   ],
   "source": [
    "ext = Extractor([(\"PDFTextExtractor\", PDFTextExtractor_kwargs)])\n",
    "ext.run_folder(config.BASE_PDF_FOLDER, config.BASE_EXTRACTION_FOLDER)"
   ]
  },
  {
   "cell_type": "code",
   "execution_count": 16,
   "metadata": {},
   "outputs": [],
   "source": [
    "# upload the extracted files to s3\n",
    "s3c.upload_files_in_dir_to_prefix(\n",
    "    config.BASE_EXTRACTION_FOLDER,\n",
    "    config.BASE_EXTRACTION_S3_PREFIX\n",
    ")"
   ]
  },
  {
   "cell_type": "markdown",
   "metadata": {},
   "source": [
    "### Conclusion\n",
    "We called the Extractor class to extract text from the PDF and store the ouput in the `ROOT/data/extraction` folder."
   ]
  }
 ],
 "metadata": {
  "dependency_resolution_engine": "pipenv",
  "kernelspec": {
   "display_name": "Python 3 (ipykernel)",
   "language": "python",
   "name": "python3"
  },
  "language_info": {
   "codemirror_mode": {
    "name": "ipython",
    "version": 3
   },
   "file_extension": ".py",
   "mimetype": "text/x-python",
   "name": "python",
   "nbconvert_exporter": "python",
   "pygments_lexer": "ipython3",
   "version": "3.8.6"
  },
  "requirements": "{\"packages\":{\"config\":\"*\",\"src\":\"*\"},\"requires\":{\"python_version\":\"3.8\"},\"sources\":[{\"name\":\"pypi\",\"url\":\"https://pypi.org/simple\",\"verify_ssl\":true}]}",
  "requirements_lock": "{\"_meta\":{\"sources\":[{\"url\":\"https://pypi.org/simple\",\"verify_ssl\":true,\"name\":\"pypi\"}],\"requires\":{\"python_version\":\"3.8\"},\"hash\":{\"sha256\":\"e8a991415fecbbd714573539a77d69175edbedb517f135bd18e59629878bbc23\"},\"pipfile-spec\":6},\"default\":{\"config\":{\"version\":\"==0.5.1\",\"hashes\":[\"sha256:2dd4a03aa383d30711d5a3325a1858de225328d61950a85be5b74c100f63016d\",\"sha256:79ffa009ff2663cc8ca29e56bcec031c044609d4bafaa4f884132a413101ce84\"],\"index\":\"pypi\"},\"src\":{\"version\":\"==0.0.7\",\"hashes\":[\"sha256:2a33bd2995800b2d3fc80efb94a300951413e02ede94691aef58bffbd69e5b0e\"],\"index\":\"pypi\"}},\"develop\":{}}"
 },
 "nbformat": 4,
 "nbformat_minor": 4
}
