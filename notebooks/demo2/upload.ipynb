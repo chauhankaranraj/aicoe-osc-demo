{
 "cells": [
  {
   "cell_type": "code",
   "execution_count": 1,
   "metadata": {},
   "outputs": [],
   "source": [
    "import os\n",
    "import boto3\n",
    "import pathlib\n",
    "import pandas as pd\n",
    "from dotenv import load_dotenv\n",
    "from src.data.s3_communication import S3Communication"
   ]
  },
  {
   "cell_type": "code",
   "execution_count": 2,
   "metadata": {},
   "outputs": [],
   "source": [
    "# Load credentials\n",
    "dotenv_dir = os.environ.get(\n",
    "    \"CREDENTIAL_DOTENV_DIR\", os.environ.get(\"PWD\", \"/opt/app-root/src\")\n",
    ")\n",
    "dotenv_path = pathlib.Path(dotenv_dir) / \"credentials.env\"\n",
    "if os.path.exists(dotenv_path):\n",
    "    load_dotenv(dotenv_path=dotenv_path, override=True)"
   ]
  },
  {
   "cell_type": "markdown",
   "metadata": {},
   "source": [
    "## Upload Files (from disk to s3)"
   ]
  },
  {
   "cell_type": "code",
   "execution_count": 3,
   "metadata": {},
   "outputs": [],
   "source": [
    "s3c = S3Communication(\n",
    "    s3_endpoint_url=os.getenv(\"S3_ENDPOINT\"),\n",
    "    aws_access_key_id=os.getenv(\"S3_ACCESS_KEY\"),\n",
    "    aws_secret_access_key=os.getenv(\"S3_SECRET_KEY\"),\n",
    "    s3_bucket=os.getenv(\"S3_BUCKET\"),\n",
    ")"
   ]
  },
  {
   "cell_type": "code",
   "execution_count": 4,
   "metadata": {},
   "outputs": [],
   "source": [
    "filepaths = [\n",
    "    \"../../data/annotations/ESG/20201030 1Qbit aggregated_annotations_needs_correction.xlsx\",\n",
    "    \"../../data/curation/esg_TEXT_dataset.csv\",\n",
    "    \"../../data/extraction/sustainability-report-2019.json\",\n",
    "    \"../../data/kpi_mapping/ESG/kpi_mapping.csv\",\n",
    "    \"../../data/pdfs/ESG/sustainability-report-2019.pdf\",\n",
    "]"
   ]
  },
  {
   "cell_type": "code",
   "execution_count": 5,
   "metadata": {},
   "outputs": [
    {
     "name": "stdout",
     "output_type": "stream",
     "text": [
      "uploading ../../data/annotations/ESG/20201030 1Qbit aggregated_annotations_needs_correction.xlsx to corpdata/ESG/annotations/20201030 1Qbit aggregated_annotations_needs_correction.xlsx...200\n",
      "uploading ../../data/curation/esg_TEXT_dataset.csv to corpdata/ESG/curation/esg_TEXT_dataset.csv...200\n",
      "uploading ../../data/extraction/sustainability-report-2019.json to corpdata/ESG/extraction/sustainability-report-2019.json...200\n",
      "uploading ../../data/kpi_mapping/ESG/kpi_mapping.csv to corpdata/ESG/kpi_mapping/kpi_mapping.csv...200\n",
      "uploading ../../data/pdfs/ESG/sustainability-report-2019.pdf to corpdata/ESG/pdfs/sustainability-report-2019.pdf...200\n"
     ]
    }
   ],
   "source": [
    "# upload everything\n",
    "for fpath in filepaths:\n",
    "    splits = fpath.split(\"/\")\n",
    "    dirname, filename = splits[3], splits[-1]\n",
    "    print(f\"uploading {fpath} to corpdata/ESG/{dirname}/{filename}...\", end=\"\")\n",
    "    ret = s3c.upload_file_to_s3(\n",
    "        fpath,\n",
    "        f\"corpdata/ESG/{dirname}\",\n",
    "        filename,\n",
    "    )\n",
    "    print(ret['ResponseMetadata']['HTTPStatusCode'])"
   ]
  },
  {
   "cell_type": "markdown",
   "metadata": {},
   "source": [
    "## View the Uploaded Files"
   ]
  },
  {
   "cell_type": "code",
   "execution_count": null,
   "metadata": {},
   "outputs": [],
   "source": [
    "s3client = boto3.client(\n",
    "    \"s3\",\n",
    "    endpoint_url=os.getenv(\"S3_ENDPOINT\"),\n",
    "    aws_access_key_id=os.getenv(\"S3_ACCESS_KEY\"),\n",
    "    aws_secret_access_key=os.getenv(\"S3_SECRET_KEY\"),\n",
    ")"
   ]
  },
  {
   "cell_type": "code",
   "execution_count": null,
   "metadata": {},
   "outputs": [],
   "source": [
    "ret = s3client.list_objects_v2(Bucket=os.getenv(\"S3_BUCKET\"))\n",
    "# ret[\"Contents\"]"
   ]
  },
  {
   "cell_type": "code",
   "execution_count": null,
   "metadata": {},
   "outputs": [],
   "source": [
    "# s3client.delete_object(Bucket=os.getenv(\"S3_BUCKET\"), Key=\"corpdata/ESG/pdfs/sustainability-report-2019.pdf\")"
   ]
  },
  {
   "cell_type": "markdown",
   "metadata": {},
   "source": [
    "## Download Files (from s3 to disk)\n",
    "\n",
    "Download the same files we uploaded above, and suffix the filenames with \"2\". Then do a `diff` to ensure that the file content is the same. This is just a sanity check."
   ]
  },
  {
   "cell_type": "code",
   "execution_count": null,
   "metadata": {},
   "outputs": [],
   "source": [
    "filepaths2 = [\n",
    "    \"../../data/annotations/ESG/20201030 1Qbit aggregated_annotations_needs_correction2.xlsx\",\n",
    "    \"../../data/curation/esg_TEXT_dataset2.csv\",\n",
    "    \"../../data/extraction/sustainability-report-20192.json\",\n",
    "    \"../../data/kpi_mapping/ESG/kpi_mapping2.csv\",\n",
    "    \"../../data/pdfs/ESG/sustainability-report-20192.pdf\",\n",
    "]"
   ]
  },
  {
   "cell_type": "code",
   "execution_count": 6,
   "metadata": {},
   "outputs": [
    {
     "name": "stdout",
     "output_type": "stream",
     "text": [
      "download corpdata/ESG/annotations/20201030 1Qbit aggregated_annotations_needs_correction.xlsx to ../../data/annotations/ESG/20201030 1Qbit aggregated_annotations_needs_correction2.xlsx\n",
      "download corpdata/ESG/curation/esg_TEXT_dataset.csv to ../../data/curation/esg_TEXT_dataset2.csv\n",
      "download corpdata/ESG/extraction/sustainability-report-2019.json to ../../data/extraction/sustainability-report-20192.json\n",
      "download corpdata/ESG/kpi_mapping/kpi_mapping.csv to ../../data/kpi_mapping/ESG/kpi_mapping2.csv\n",
      "download corpdata/ESG/pdfs/sustainability-report-2019.pdf to ../../data/pdfs/ESG/sustainability-report-20192.pdf\n"
     ]
    }
   ],
   "source": [
    "# download everything into separate dir and verify correctness\n",
    "for fpath in filepaths2:\n",
    "    splits = fpath.split(\"/\")\n",
    "    dirname, filename = splits[3], splits[-1]\n",
    "    keyname = ''.join(filename.rsplit('2', maxsplit=1))\n",
    "    breakpoint()\n",
    "    print(f\"download corpdata/ESG/{dirname}/{keyname} to {fpath}\")\n",
    "    ret = s3c.download_file_from_s3(\n",
    "        fpath,\n",
    "        f\"corpdata/ESG/{dirname}\",\n",
    "        keyname,\n",
    "    )"
   ]
  },
  {
   "cell_type": "markdown",
   "metadata": {},
   "source": [
    "## Upload DataFrame directly (from memory, NOT saved on disk)"
   ]
  },
  {
   "cell_type": "code",
   "execution_count": 12,
   "metadata": {},
   "outputs": [
    {
     "data": {
      "text/html": [
       "<div>\n",
       "<style scoped>\n",
       "    .dataframe tbody tr th:only-of-type {\n",
       "        vertical-align: middle;\n",
       "    }\n",
       "\n",
       "    .dataframe tbody tr th {\n",
       "        vertical-align: top;\n",
       "    }\n",
       "\n",
       "    .dataframe thead th {\n",
       "        text-align: right;\n",
       "    }\n",
       "</style>\n",
       "<table border=\"1\" class=\"dataframe\">\n",
       "  <thead>\n",
       "    <tr style=\"text-align: right;\">\n",
       "      <th></th>\n",
       "      <th>Unnamed: 0</th>\n",
       "      <th>question</th>\n",
       "      <th>context</th>\n",
       "      <th>company</th>\n",
       "      <th>source_file</th>\n",
       "      <th>source_page</th>\n",
       "      <th>kpi_id</th>\n",
       "      <th>year</th>\n",
       "      <th>answer</th>\n",
       "      <th>data_type</th>\n",
       "      <th>relevant_paragraphs</th>\n",
       "      <th>annotator</th>\n",
       "      <th>label</th>\n",
       "    </tr>\n",
       "  </thead>\n",
       "  <tbody>\n",
       "    <tr>\n",
       "      <th>0</th>\n",
       "      <td>0</td>\n",
       "      <td>In which year was the annual report or the sus...</td>\n",
       "      <td>IPCC (2018): Global Warming of 1.5 C IPCC (20...</td>\n",
       "      <td>Cabot Oil &amp; Gas Corp</td>\n",
       "      <td>Cabot Oil &amp; Gas Corp Annual Report 2015.pdf</td>\n",
       "      <td>[1]</td>\n",
       "      <td>1.0</td>\n",
       "      <td>2015</td>\n",
       "      <td>2015</td>\n",
       "      <td>TEXT</td>\n",
       "      <td>[\"2015 ANNUAL REPORT\"]</td>\n",
       "      <td>20201030 1Qbit aggregated_annotations_needs_co...</td>\n",
       "      <td>0</td>\n",
       "    </tr>\n",
       "    <tr>\n",
       "      <th>1</th>\n",
       "      <td>1</td>\n",
       "      <td>In which year was the annual report or the sus...</td>\n",
       "      <td>1) Assets means installations and plants in op...</td>\n",
       "      <td>NOVATEK</td>\n",
       "      <td>Sustainability_Report_2017_Eng_small[1].pdf</td>\n",
       "      <td>[1]</td>\n",
       "      <td>1.0</td>\n",
       "      <td>2017</td>\n",
       "      <td>2017</td>\n",
       "      <td>TEXT</td>\n",
       "      <td>[\"2017 SUSTAINABILITY REPORT\"]</td>\n",
       "      <td>20201030 1Qbit aggregated_annotations_needs_co...</td>\n",
       "      <td>0</td>\n",
       "    </tr>\n",
       "    <tr>\n",
       "      <th>2</th>\n",
       "      <td>2</td>\n",
       "      <td>In which year was the annual report or the sus...</td>\n",
       "      <td>2012 annual report</td>\n",
       "      <td>CenterPoint Energy</td>\n",
       "      <td>CenterPoint Energy Annual report 2012.pdf</td>\n",
       "      <td>[1]</td>\n",
       "      <td>1.0</td>\n",
       "      <td>2012</td>\n",
       "      <td>2012</td>\n",
       "      <td>TEXT</td>\n",
       "      <td>[\"2012 annual report\"]</td>\n",
       "      <td>20201030 1Qbit aggregated_annotations_needs_co...</td>\n",
       "      <td>1</td>\n",
       "    </tr>\n",
       "    <tr>\n",
       "      <th>3</th>\n",
       "      <td>3</td>\n",
       "      <td>In which year was the annual report or the sus...</td>\n",
       "      <td>2013 ANNUAL REPORT</td>\n",
       "      <td>Cenovus Energy</td>\n",
       "      <td>Cenovus Annual Report 2013.pdf</td>\n",
       "      <td>[1]</td>\n",
       "      <td>1.0</td>\n",
       "      <td>2013</td>\n",
       "      <td>2013</td>\n",
       "      <td>TEXT</td>\n",
       "      <td>[\"2013 ANNUAL REPORT\"]</td>\n",
       "      <td>20201030 1Qbit aggregated_annotations_needs_co...</td>\n",
       "      <td>1</td>\n",
       "    </tr>\n",
       "    <tr>\n",
       "      <th>4</th>\n",
       "      <td>4</td>\n",
       "      <td>In which year was the annual report or the sus...</td>\n",
       "      <td>2013 annual report</td>\n",
       "      <td>CenterPoint Energy</td>\n",
       "      <td>CenterPoint Energy Annual report 2013.pdf</td>\n",
       "      <td>[1]</td>\n",
       "      <td>1.0</td>\n",
       "      <td>2013</td>\n",
       "      <td>2013</td>\n",
       "      <td>TEXT</td>\n",
       "      <td>[\"2013 annual report\"]</td>\n",
       "      <td>20201030 1Qbit aggregated_annotations_needs_co...</td>\n",
       "      <td>1</td>\n",
       "    </tr>\n",
       "  </tbody>\n",
       "</table>\n",
       "</div>"
      ],
      "text/plain": [
       "   Unnamed: 0                                           question  \\\n",
       "0           0  In which year was the annual report or the sus...   \n",
       "1           1  In which year was the annual report or the sus...   \n",
       "2           2  In which year was the annual report or the sus...   \n",
       "3           3  In which year was the annual report or the sus...   \n",
       "4           4  In which year was the annual report or the sus...   \n",
       "\n",
       "                                             context               company  \\\n",
       "0   IPCC (2018): Global Warming of 1.5 C IPCC (20...  Cabot Oil & Gas Corp   \n",
       "1  1) Assets means installations and plants in op...               NOVATEK   \n",
       "2                                 2012 annual report    CenterPoint Energy   \n",
       "3                                 2013 ANNUAL REPORT        Cenovus Energy   \n",
       "4                                 2013 annual report    CenterPoint Energy   \n",
       "\n",
       "                                   source_file source_page  kpi_id  year  \\\n",
       "0  Cabot Oil & Gas Corp Annual Report 2015.pdf         [1]     1.0  2015   \n",
       "1  Sustainability_Report_2017_Eng_small[1].pdf         [1]     1.0  2017   \n",
       "2    CenterPoint Energy Annual report 2012.pdf         [1]     1.0  2012   \n",
       "3               Cenovus Annual Report 2013.pdf         [1]     1.0  2013   \n",
       "4    CenterPoint Energy Annual report 2013.pdf         [1]     1.0  2013   \n",
       "\n",
       "  answer data_type             relevant_paragraphs  \\\n",
       "0   2015      TEXT         [\"2015 ANNUAL REPORT\"]   \n",
       "1   2017      TEXT  [\"2017 SUSTAINABILITY REPORT\"]   \n",
       "2   2012      TEXT          [\"2012 annual report\"]   \n",
       "3   2013      TEXT          [\"2013 ANNUAL REPORT\"]   \n",
       "4   2013      TEXT          [\"2013 annual report\"]   \n",
       "\n",
       "                                           annotator  label  \n",
       "0  20201030 1Qbit aggregated_annotations_needs_co...      0  \n",
       "1  20201030 1Qbit aggregated_annotations_needs_co...      0  \n",
       "2  20201030 1Qbit aggregated_annotations_needs_co...      1  \n",
       "3  20201030 1Qbit aggregated_annotations_needs_co...      1  \n",
       "4  20201030 1Qbit aggregated_annotations_needs_co...      1  "
      ]
     },
     "execution_count": 12,
     "metadata": {},
     "output_type": "execute_result"
    }
   ],
   "source": [
    "test_df = pd.read_csv('/home/kachau/Documents/aicoe-osc-demo/data/curation/esg_TEXT_dataset.csv')\n",
    "test_df.head()"
   ]
  },
  {
   "cell_type": "code",
   "execution_count": null,
   "metadata": {},
   "outputs": [],
   "source": [
    "s3c.upload_df_to_s3(test_df, \"kachau/test\", \"test_df.parquet\")"
   ]
  },
  {
   "cell_type": "markdown",
   "metadata": {},
   "source": [
    "## Download DataFrame directly (into memory, NOT saving on disk)"
   ]
  },
  {
   "cell_type": "code",
   "execution_count": 14,
   "metadata": {},
   "outputs": [
    {
     "data": {
      "text/html": [
       "<div>\n",
       "<style scoped>\n",
       "    .dataframe tbody tr th:only-of-type {\n",
       "        vertical-align: middle;\n",
       "    }\n",
       "\n",
       "    .dataframe tbody tr th {\n",
       "        vertical-align: top;\n",
       "    }\n",
       "\n",
       "    .dataframe thead th {\n",
       "        text-align: right;\n",
       "    }\n",
       "</style>\n",
       "<table border=\"1\" class=\"dataframe\">\n",
       "  <thead>\n",
       "    <tr style=\"text-align: right;\">\n",
       "      <th></th>\n",
       "      <th>Unnamed: 0</th>\n",
       "      <th>question</th>\n",
       "      <th>context</th>\n",
       "      <th>company</th>\n",
       "      <th>source_file</th>\n",
       "      <th>source_page</th>\n",
       "      <th>kpi_id</th>\n",
       "      <th>year</th>\n",
       "      <th>answer</th>\n",
       "      <th>data_type</th>\n",
       "      <th>relevant_paragraphs</th>\n",
       "      <th>annotator</th>\n",
       "      <th>label</th>\n",
       "    </tr>\n",
       "  </thead>\n",
       "  <tbody>\n",
       "    <tr>\n",
       "      <th>0</th>\n",
       "      <td>0</td>\n",
       "      <td>In which year was the annual report or the sus...</td>\n",
       "      <td>IPCC (2018): Global Warming of 1.5 C IPCC (20...</td>\n",
       "      <td>Cabot Oil &amp; Gas Corp</td>\n",
       "      <td>Cabot Oil &amp; Gas Corp Annual Report 2015.pdf</td>\n",
       "      <td>[1]</td>\n",
       "      <td>1.0</td>\n",
       "      <td>2015</td>\n",
       "      <td>2015</td>\n",
       "      <td>TEXT</td>\n",
       "      <td>[\"2015 ANNUAL REPORT\"]</td>\n",
       "      <td>20201030 1Qbit aggregated_annotations_needs_co...</td>\n",
       "      <td>0</td>\n",
       "    </tr>\n",
       "    <tr>\n",
       "      <th>1</th>\n",
       "      <td>1</td>\n",
       "      <td>In which year was the annual report or the sus...</td>\n",
       "      <td>1) Assets means installations and plants in op...</td>\n",
       "      <td>NOVATEK</td>\n",
       "      <td>Sustainability_Report_2017_Eng_small[1].pdf</td>\n",
       "      <td>[1]</td>\n",
       "      <td>1.0</td>\n",
       "      <td>2017</td>\n",
       "      <td>2017</td>\n",
       "      <td>TEXT</td>\n",
       "      <td>[\"2017 SUSTAINABILITY REPORT\"]</td>\n",
       "      <td>20201030 1Qbit aggregated_annotations_needs_co...</td>\n",
       "      <td>0</td>\n",
       "    </tr>\n",
       "    <tr>\n",
       "      <th>2</th>\n",
       "      <td>2</td>\n",
       "      <td>In which year was the annual report or the sus...</td>\n",
       "      <td>2012 annual report</td>\n",
       "      <td>CenterPoint Energy</td>\n",
       "      <td>CenterPoint Energy Annual report 2012.pdf</td>\n",
       "      <td>[1]</td>\n",
       "      <td>1.0</td>\n",
       "      <td>2012</td>\n",
       "      <td>2012</td>\n",
       "      <td>TEXT</td>\n",
       "      <td>[\"2012 annual report\"]</td>\n",
       "      <td>20201030 1Qbit aggregated_annotations_needs_co...</td>\n",
       "      <td>1</td>\n",
       "    </tr>\n",
       "    <tr>\n",
       "      <th>3</th>\n",
       "      <td>3</td>\n",
       "      <td>In which year was the annual report or the sus...</td>\n",
       "      <td>2013 ANNUAL REPORT</td>\n",
       "      <td>Cenovus Energy</td>\n",
       "      <td>Cenovus Annual Report 2013.pdf</td>\n",
       "      <td>[1]</td>\n",
       "      <td>1.0</td>\n",
       "      <td>2013</td>\n",
       "      <td>2013</td>\n",
       "      <td>TEXT</td>\n",
       "      <td>[\"2013 ANNUAL REPORT\"]</td>\n",
       "      <td>20201030 1Qbit aggregated_annotations_needs_co...</td>\n",
       "      <td>1</td>\n",
       "    </tr>\n",
       "    <tr>\n",
       "      <th>4</th>\n",
       "      <td>4</td>\n",
       "      <td>In which year was the annual report or the sus...</td>\n",
       "      <td>2013 annual report</td>\n",
       "      <td>CenterPoint Energy</td>\n",
       "      <td>CenterPoint Energy Annual report 2013.pdf</td>\n",
       "      <td>[1]</td>\n",
       "      <td>1.0</td>\n",
       "      <td>2013</td>\n",
       "      <td>2013</td>\n",
       "      <td>TEXT</td>\n",
       "      <td>[\"2013 annual report\"]</td>\n",
       "      <td>20201030 1Qbit aggregated_annotations_needs_co...</td>\n",
       "      <td>1</td>\n",
       "    </tr>\n",
       "  </tbody>\n",
       "</table>\n",
       "</div>"
      ],
      "text/plain": [
       "   Unnamed: 0                                           question  \\\n",
       "0           0  In which year was the annual report or the sus...   \n",
       "1           1  In which year was the annual report or the sus...   \n",
       "2           2  In which year was the annual report or the sus...   \n",
       "3           3  In which year was the annual report or the sus...   \n",
       "4           4  In which year was the annual report or the sus...   \n",
       "\n",
       "                                             context               company  \\\n",
       "0   IPCC (2018): Global Warming of 1.5 C IPCC (20...  Cabot Oil & Gas Corp   \n",
       "1  1) Assets means installations and plants in op...               NOVATEK   \n",
       "2                                 2012 annual report    CenterPoint Energy   \n",
       "3                                 2013 ANNUAL REPORT        Cenovus Energy   \n",
       "4                                 2013 annual report    CenterPoint Energy   \n",
       "\n",
       "                                   source_file source_page  kpi_id  year  \\\n",
       "0  Cabot Oil & Gas Corp Annual Report 2015.pdf         [1]     1.0  2015   \n",
       "1  Sustainability_Report_2017_Eng_small[1].pdf         [1]     1.0  2017   \n",
       "2    CenterPoint Energy Annual report 2012.pdf         [1]     1.0  2012   \n",
       "3               Cenovus Annual Report 2013.pdf         [1]     1.0  2013   \n",
       "4    CenterPoint Energy Annual report 2013.pdf         [1]     1.0  2013   \n",
       "\n",
       "  answer data_type             relevant_paragraphs  \\\n",
       "0   2015      TEXT         [\"2015 ANNUAL REPORT\"]   \n",
       "1   2017      TEXT  [\"2017 SUSTAINABILITY REPORT\"]   \n",
       "2   2012      TEXT          [\"2012 annual report\"]   \n",
       "3   2013      TEXT          [\"2013 ANNUAL REPORT\"]   \n",
       "4   2013      TEXT          [\"2013 annual report\"]   \n",
       "\n",
       "                                           annotator  label  \n",
       "0  20201030 1Qbit aggregated_annotations_needs_co...      0  \n",
       "1  20201030 1Qbit aggregated_annotations_needs_co...      0  \n",
       "2  20201030 1Qbit aggregated_annotations_needs_co...      1  \n",
       "3  20201030 1Qbit aggregated_annotations_needs_co...      1  \n",
       "4  20201030 1Qbit aggregated_annotations_needs_co...      1  "
      ]
     },
     "execution_count": 14,
     "metadata": {},
     "output_type": "execute_result"
    }
   ],
   "source": [
    "test_df2 = s3c.download_df_from_s3(\"kachau/test\", \"test_df.parquet\")\n",
    "test_df2.head()"
   ]
  },
  {
   "cell_type": "code",
   "execution_count": 15,
   "metadata": {},
   "outputs": [
    {
     "data": {
      "text/plain": [
       "Unnamed: 0             True\n",
       "question               True\n",
       "context                True\n",
       "company                True\n",
       "source_file            True\n",
       "source_page            True\n",
       "kpi_id                 True\n",
       "year                   True\n",
       "answer                 True\n",
       "data_type              True\n",
       "relevant_paragraphs    True\n",
       "annotator              True\n",
       "label                  True\n",
       "dtype: bool"
      ]
     },
     "execution_count": 15,
     "metadata": {},
     "output_type": "execute_result"
    }
   ],
   "source": [
    "# sanity check\n",
    "(test_df == test_df2).all()"
   ]
  },
  {
   "cell_type": "code",
   "execution_count": null,
   "metadata": {},
   "outputs": [],
   "source": []
  }
 ],
 "metadata": {
  "interpreter": {
   "hash": "b8edbc099b1e3962a1cd98913d430c1f3c967398573c0a27e37d75e269a711f1"
  },
  "kernelspec": {
   "display_name": "Python 3 (ipykernel)",
   "language": "python",
   "name": "python3"
  },
  "language_info": {
   "codemirror_mode": {
    "name": "ipython",
    "version": 3
   },
   "file_extension": ".py",
   "mimetype": "text/x-python",
   "name": "python",
   "nbconvert_exporter": "python",
   "pygments_lexer": "ipython3",
   "version": "3.8.11"
  }
 },
 "nbformat": 4,
 "nbformat_minor": 4
}
