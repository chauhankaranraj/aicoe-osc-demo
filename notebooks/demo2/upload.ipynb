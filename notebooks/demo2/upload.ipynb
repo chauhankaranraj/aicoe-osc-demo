{
 "cells": [
  {
   "cell_type": "code",
   "execution_count": 1,
   "metadata": {},
   "outputs": [],
   "source": [
    "import os\n",
    "import boto3\n",
    "import pathlib\n",
    "import pandas as pd\n",
    "from dotenv import load_dotenv\n",
    "from src.data.s3_communication import S3Communication"
   ]
  },
  {
   "cell_type": "code",
   "execution_count": 2,
   "metadata": {},
   "outputs": [],
   "source": [
    "# Load credentials\n",
    "dotenv_dir = os.environ.get(\n",
    "    \"CREDENTIAL_DOTENV_DIR\", os.environ.get(\"PWD\", \"/opt/app-root/src\")\n",
    ")\n",
    "dotenv_path = pathlib.Path(dotenv_dir) / \"credentials.env\"\n",
    "if os.path.exists(dotenv_path):\n",
    "    load_dotenv(dotenv_path=dotenv_path, override=True)"
   ]
  },
  {
   "cell_type": "markdown",
   "metadata": {},
   "source": [
    "## Upload Files (from disk to s3)"
   ]
  },
  {
   "cell_type": "markdown",
   "metadata": {},
   "source": [
    "### Option 1: Manually using boto3"
   ]
  },
  {
   "cell_type": "code",
   "execution_count": 3,
   "metadata": {},
   "outputs": [],
   "source": [
    "s3client = boto3.client(\n",
    "    's3',\n",
    "    endpoint_url=os.getenv(\"S3_ENDPOINT\"),\n",
    "    aws_access_key_id=os.getenv(\"S3_ACCESS_KEY\"),\n",
    "    aws_secret_access_key=os.getenv(\"S3_SECRET_KEY\"),\n",
    ")\n",
    "with open(\"../../data/annotations/ESG/20201030 1Qbit aggregated_annotations_needs_correction.xlsx\", \"rb\") as f:\n",
    "    s3client.upload_fileobj(\n",
    "        f,\n",
    "        os.getenv(\"S3_BUCKET\"),\n",
    "        \"kachau/demo/20201030 1Qbit aggregated_annotations_needs_correction.xlsx\",\n",
    "    )"
   ]
  },
  {
   "cell_type": "markdown",
   "metadata": {},
   "source": [
    "### Option 2: Using our helper class"
   ]
  },
  {
   "cell_type": "code",
   "execution_count": 4,
   "metadata": {},
   "outputs": [],
   "source": [
    "s3comm = S3Communication(\n",
    "    s3_endpoint_url=os.getenv(\"S3_ENDPOINT\"),\n",
    "    aws_access_key_id=os.getenv(\"S3_ACCESS_KEY\"),\n",
    "    aws_secret_access_key=os.getenv(\"S3_SECRET_KEY\"),\n",
    "    s3_bucket=os.getenv(\"S3_BUCKET\"),\n",
    ")"
   ]
  },
  {
   "cell_type": "code",
   "execution_count": 5,
   "metadata": {},
   "outputs": [],
   "source": [
    "filepaths = [\n",
    "    \"../../data/annotations/ESG/20201030 1Qbit aggregated_annotations_needs_correction.xlsx\",\n",
    "    \"../../data/curation/esg_TEXT_dataset.csv\",\n",
    "    \"../../data/extraction/sustainability-report-2019.json\",\n",
    "    \"../../data/kpi_mapping/ESG/kpi_mapping.csv\",\n",
    "    \"../../data/pdfs/ESG/sustainability-report-2019.pdf\",\n",
    "]"
   ]
  },
  {
   "cell_type": "code",
   "execution_count": null,
   "metadata": {},
   "outputs": [
    {
     "name": "stdout",
     "output_type": "stream",
     "text": [
      "uploading ../../data/annotations/ESG/20201030 1Qbit aggregated_annotations_needs_correction.xlsx to corpdata/ESG/annotations/20201030 1Qbit aggregated_annotations_needs_correction.xlsx...200\n",
      "uploading ../../data/curation/esg_TEXT_dataset.csv to corpdata/ESG/curation/esg_TEXT_dataset.csv...200\n",
      "uploading ../../data/extraction/sustainability-report-2019.json to corpdata/ESG/extraction/sustainability-report-2019.json...200\n",
      "uploading ../../data/kpi_mapping/ESG/kpi_mapping.csv to corpdata/ESG/kpi_mapping/kpi_mapping.csv...200\n",
      "uploading ../../data/pdfs/ESG/sustainability-report-2019.pdf to corpdata/ESG/pdfs/sustainability-report-2019.pdf..."
     ]
    }
   ],
   "source": [
    "# upload everything\n",
    "for fpath in filepaths:\n",
    "    splits = fpath.split(\"/\")\n",
    "    dirname, filename = splits[3], splits[-1]\n",
    "    print(f\"uploading {fpath} to corpdata/ESG/{dirname}/{filename}...\", end=\"\")\n",
    "    ret = s3comm.upload_file_to_s3(\n",
    "        fpath,\n",
    "        f\"corpdata/ESG/{dirname}\",\n",
    "        filename,\n",
    "    )\n",
    "    print(ret['ResponseMetadata']['HTTPStatusCode'])"
   ]
  },
  {
   "cell_type": "markdown",
   "metadata": {},
   "source": [
    "## View the Uploaded Files"
   ]
  },
  {
   "cell_type": "code",
   "execution_count": null,
   "metadata": {},
   "outputs": [],
   "source": [
    "ret = s3client.list_objects_v2(Bucket=os.getenv(\"S3_BUCKET\"))\n",
    "# ret[\"Contents\"]"
   ]
  },
  {
   "cell_type": "code",
   "execution_count": null,
   "metadata": {},
   "outputs": [],
   "source": [
    "# s3client.delete_object(Bucket=os.getenv(\"S3_BUCKET\"), Key=\"corpdata/ESG/pdfs/sustainability-report-2019.pdf\")"
   ]
  },
  {
   "cell_type": "markdown",
   "metadata": {},
   "source": [
    "## Download Files (from s3 to disk)\n",
    "\n",
    "Download the same files we uploaded above, and suffix the filenames with \"2\". Then do a `diff` to ensure that the file content is the same. This is just a sanity check."
   ]
  },
  {
   "cell_type": "markdown",
   "metadata": {},
   "source": [
    "### Option 1: Manually Using boto3"
   ]
  },
  {
   "cell_type": "code",
   "execution_count": null,
   "metadata": {},
   "outputs": [],
   "source": [
    "with open(\"../../data/annotations/ESG/20201030 1Qbit aggregated_annotations_needs_correction.xlsx\", \"wb\") as f:\n",
    "    s3client.download_fileobj(\n",
    "        os.getenv(\"S3_BUCKET\"),\n",
    "        \"kachau/demo/20201030 1Qbit aggregated_annotations_needs_correction.xlsx\",\n",
    "        f,\n",
    "    )"
   ]
  },
  {
   "cell_type": "markdown",
   "metadata": {},
   "source": [
    "### Option 2: Using our helper class"
   ]
  },
  {
   "cell_type": "code",
   "execution_count": null,
   "metadata": {},
   "outputs": [],
   "source": [
    "filepaths2 = [\n",
    "    \"../../data/annotations/ESG/20201030 1Qbit aggregated_annotations_needs_correction2.xlsx\",\n",
    "    \"../../data/curation/esg_TEXT_dataset2.csv\",\n",
    "    \"../../data/extraction/sustainability-report-20192.json\",\n",
    "    \"../../data/kpi_mapping/ESG/kpi_mapping2.csv\",\n",
    "    \"../../data/pdfs/ESG/sustainability-report-20192.pdf\",\n",
    "]"
   ]
  },
  {
   "cell_type": "code",
   "execution_count": null,
   "metadata": {},
   "outputs": [],
   "source": [
    "# download everything into separate dir and verify correctness\n",
    "for fpath in filepaths2:\n",
    "    splits = fpath.split(\"/\")\n",
    "    dirname, filename = splits[3], splits[-1]\n",
    "    keyname = ''.join(filename.rsplit('2', maxsplit=1))\n",
    "    breakpoint()\n",
    "    print(f\"download corpdata/ESG/{dirname}/{keyname} to {fpath}\")\n",
    "    ret = s3comm.download_file_from_s3(\n",
    "        fpath,\n",
    "        f\"corpdata/ESG/{dirname}\",\n",
    "        keyname,\n",
    "    )"
   ]
  },
  {
   "cell_type": "markdown",
   "metadata": {},
   "source": [
    "## Upload DataFrame directly (from memory, NOT saved on disk)"
   ]
  },
  {
   "cell_type": "code",
   "execution_count": null,
   "metadata": {},
   "outputs": [],
   "source": [
    "test_df = pd.read_csv('/home/kachau/Documents/aicoe-osc-demo/data/curation/esg_TEXT_dataset.csv')\n",
    "test_df.head()"
   ]
  },
  {
   "cell_type": "code",
   "execution_count": null,
   "metadata": {},
   "outputs": [],
   "source": [
    "s3comm.upload_df_to_s3(test_df, \"kachau/test\", \"test_df.parquet\")"
   ]
  },
  {
   "cell_type": "markdown",
   "metadata": {},
   "source": [
    "## Download DataFrame directly (into memory, NOT saving on disk)"
   ]
  },
  {
   "cell_type": "code",
   "execution_count": null,
   "metadata": {},
   "outputs": [],
   "source": [
    "test_df2 = s3comm.download_df_from_s3(\"kachau/test\", \"test_df.parquet\")\n",
    "test_df2.head()"
   ]
  },
  {
   "cell_type": "code",
   "execution_count": null,
   "metadata": {},
   "outputs": [],
   "source": [
    "# sanity check\n",
    "(test_df == test_df2).all()"
   ]
  },
  {
   "cell_type": "code",
   "execution_count": null,
   "metadata": {},
   "outputs": [],
   "source": []
  }
 ],
 "metadata": {
  "interpreter": {
   "hash": "b8edbc099b1e3962a1cd98913d430c1f3c967398573c0a27e37d75e269a711f1"
  },
  "kernelspec": {
   "display_name": "Python 3 (ipykernel)",
   "language": "python",
   "name": "python3"
  },
  "language_info": {
   "codemirror_mode": {
    "name": "ipython",
    "version": 3
   },
   "file_extension": ".py",
   "mimetype": "text/x-python",
   "name": "python",
   "nbconvert_exporter": "python",
   "pygments_lexer": "ipython3",
   "version": "3.8.11"
  }
 },
 "nbformat": 4,
 "nbformat_minor": 4
}
