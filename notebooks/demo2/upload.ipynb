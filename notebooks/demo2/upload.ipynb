{
 "cells": [
  {
   "cell_type": "code",
   "execution_count": 1,
   "source": [
    "import os\n",
    "import boto3\n",
    "import pathlib\n",
    "import pandas as pd\n",
    "from dotenv import load_dotenv\n",
    "from src.data.s3_communication import S3FileType, S3Communication"
   ],
   "outputs": [],
   "metadata": {}
  },
  {
   "cell_type": "code",
   "execution_count": 2,
   "source": [
    "# Load credentials\n",
    "dotenv_dir = os.environ.get(\n",
    "    \"CREDENTIAL_DOTENV_DIR\", os.environ.get(\"PWD\", \"/opt/app-root/src\")\n",
    ")\n",
    "dotenv_path = pathlib.Path(dotenv_dir) / \"credentials.env\"\n",
    "if os.path.exists(dotenv_path):\n",
    "    load_dotenv(dotenv_path=dotenv_path, override=True)"
   ],
   "outputs": [],
   "metadata": {}
  },
  {
   "cell_type": "code",
   "execution_count": 3,
   "source": [
    "s3c = S3Communication(\n",
    "    s3_endpoint_url=os.getenv(\"S3_ENDPOINT\"),\n",
    "    aws_access_key_id=os.getenv(\"S3_ACCESS_KEY\"),\n",
    "    aws_secret_access_key=os.getenv(\"S3_SECRET_KEY\"),\n",
    "    s3_bucket=os.getenv(\"S3_BUCKET\"),\n",
    ")"
   ],
   "outputs": [],
   "metadata": {}
  },
  {
   "cell_type": "code",
   "execution_count": 4,
   "source": [
    "filepaths = [\n",
    "    \"../../data/annotations/ESG/20201030 1Qbit aggregated_annotations_needs_correction.xlsx\",\n",
    "    \"../../data/curation/esg_TEXT_dataset.csv\",\n",
    "    \"../../data/extraction/sustainability-report-2019.json\",\n",
    "    \"../../data/kpi_mapping/ESG/kpi_mapping.csv\",\n",
    "    \"../../data/pdfs/ESG/sustainability-report-2019.pdf\",\n",
    "]\n",
    "\n",
    "filepaths2 = [\n",
    "    \"../../data/annotations/ESG/20201030 1Qbit aggregated_annotations_needs_correction2.xlsx\",\n",
    "    \"../../data/curation/esg_TEXT_dataset2.csv\",\n",
    "    \"../../data/extraction/sustainability-report-20192.json\",\n",
    "    \"../../data/kpi_mapping/ESG/kpi_mapping2.csv\",\n",
    "    \"../../data/pdfs/ESG/sustainability-report-20192.pdf\",\n",
    "]"
   ],
   "outputs": [],
   "metadata": {}
  },
  {
   "cell_type": "code",
   "execution_count": 5,
   "source": [
    "# upload everything\n",
    "for fpath in filepaths:\n",
    "    splits = fpath.split(\"/\")\n",
    "    dirname, filename = splits[3], splits[-1]\n",
    "    print(f\"uploading {fpath} to corpdata/ESG/{dirname}/{filename}...\", end=\"\")\n",
    "    ret = s3c.upload_file_to_s3(\n",
    "        fpath,\n",
    "        f\"corpdata/ESG/{dirname}\",\n",
    "        filename,\n",
    "    )\n",
    "    print(ret['ResponseMetadata']['HTTPStatusCode'])"
   ],
   "outputs": [
    {
     "output_type": "stream",
     "name": "stdout",
     "text": [
      "uploading ../../data/annotations/ESG/20201030 1Qbit aggregated_annotations_needs_correction.xlsx to corpdata/ESG/annotations/20201030 1Qbit aggregated_annotations_needs_correction.xlsx...200\n",
      "uploading ../../data/curation/esg_TEXT_dataset.csv to corpdata/ESG/curation/esg_TEXT_dataset.csv...200\n",
      "uploading ../../data/extraction/sustainability-report-2019.json to corpdata/ESG/extraction/sustainability-report-2019.json...200\n",
      "uploading ../../data/kpi_mapping/ESG/kpi_mapping.csv to corpdata/ESG/kpi_mapping/kpi_mapping.csv...200\n",
      "uploading ../../data/pdfs/ESG/sustainability-report-2019.pdf to corpdata/ESG/pdfs/sustainability-report-2019.pdf...200\n"
     ]
    }
   ],
   "metadata": {}
  },
  {
   "cell_type": "code",
   "execution_count": 6,
   "source": [
    "# download everything into separate dir and verify correctness\n",
    "for fpath in filepaths2:\n",
    "    splits = fpath.split(\"/\")\n",
    "    dirname, filename = splits[3], splits[-1]\n",
    "    keyname = ''.join(filename.rsplit('2', maxsplit=1))\n",
    "    breakpoint()\n",
    "    print(f\"download corpdata/ESG/{dirname}/{keyname} to {fpath}\")\n",
    "    ret = s3c.download_file_from_s3(\n",
    "        fpath,\n",
    "        f\"corpdata/ESG/{dirname}\",\n",
    "        keyname,\n",
    "    )"
   ],
   "outputs": [
    {
     "output_type": "stream",
     "name": "stdout",
     "text": [
      "download corpdata/ESG/annotations/20201030 1Qbit aggregated_annotations_needs_correction.xlsx to ../../data/annotations/ESG/20201030 1Qbit aggregated_annotations_needs_correction2.xlsx\n",
      "download corpdata/ESG/curation/esg_TEXT_dataset.csv to ../../data/curation/esg_TEXT_dataset2.csv\n",
      "download corpdata/ESG/extraction/sustainability-report-2019.json to ../../data/extraction/sustainability-report-20192.json\n",
      "download corpdata/ESG/kpi_mapping/kpi_mapping.csv to ../../data/kpi_mapping/ESG/kpi_mapping2.csv\n",
      "download corpdata/ESG/pdfs/sustainability-report-2019.pdf to ../../data/pdfs/ESG/sustainability-report-20192.pdf\n"
     ]
    }
   ],
   "metadata": {}
  },
  {
   "cell_type": "code",
   "execution_count": 7,
   "source": [
    "s3client = boto3.client(\n",
    "    \"s3\",\n",
    "    endpoint_url=os.getenv(\"S3_ENDPOINT\"),\n",
    "    aws_access_key_id=os.getenv(\"S3_ACCESS_KEY\"),\n",
    "    aws_secret_access_key=os.getenv(\"S3_SECRET_KEY\"),\n",
    ")"
   ],
   "outputs": [],
   "metadata": {}
  },
  {
   "cell_type": "code",
   "execution_count": 11,
   "source": [
    "ret = s3client.list_objects_v2(Bucket=os.getenv(\"S3_BUCKET\"))\n",
    "# ret[\"Contents\"]"
   ],
   "outputs": [],
   "metadata": {}
  },
  {
   "cell_type": "code",
   "execution_count": 9,
   "source": [
    "# s3client.delete_object(Bucket=os.getenv(\"S3_BUCKET\"), Key=\"corpdata/ESG/pdfs/sustainability-report-2019.pdf\")"
   ],
   "outputs": [],
   "metadata": {}
  }
 ],
 "metadata": {
  "orig_nbformat": 4,
  "language_info": {
   "name": "python",
   "version": "3.8.11",
   "mimetype": "text/x-python",
   "codemirror_mode": {
    "name": "ipython",
    "version": 3
   },
   "pygments_lexer": "ipython3",
   "nbconvert_exporter": "python",
   "file_extension": ".py"
  },
  "kernelspec": {
   "name": "python3",
   "display_name": "Python 3.8.11 64-bit ('aicoe-osc-demo-WcnGX8it': pipenv)"
  },
  "interpreter": {
   "hash": "b8edbc099b1e3962a1cd98913d430c1f3c967398573c0a27e37d75e269a711f1"
  }
 },
 "nbformat": 4,
 "nbformat_minor": 2
}