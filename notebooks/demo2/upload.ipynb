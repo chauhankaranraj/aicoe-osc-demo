{
 "cells": [
  {
   "cell_type": "code",
   "execution_count": null,
   "source": [
    "import os\n",
    "import boto3\n",
    "import pathlib\n",
    "import pandas as pd\n",
    "from dotenv import load_dotenv\n",
    "from src.data.s3_communication import S3FileType, S3Communication"
   ],
   "outputs": [],
   "metadata": {}
  },
  {
   "cell_type": "code",
   "execution_count": null,
   "source": [
    "# Load credentials\n",
    "dotenv_dir = os.environ.get(\n",
    "    \"CREDENTIAL_DOTENV_DIR\", os.environ.get(\"PWD\", \"/opt/app-root/src\")\n",
    ")\n",
    "dotenv_path = pathlib.Path(dotenv_dir) / \"credentials.env\"\n",
    "if os.path.exists(dotenv_path):\n",
    "    load_dotenv(dotenv_path=dotenv_path, override=True)"
   ],
   "outputs": [],
   "metadata": {}
  },
  {
   "cell_type": "code",
   "execution_count": null,
   "source": [
    "s3c = S3Communication(\n",
    "    s3_endpoint_url=os.getenv(\"S3_ENDPOINT\"),\n",
    "    aws_access_key_id=os.getenv(\"S3_ACCESS_KEY\"),\n",
    "    aws_secret_access_key=os.getenv(\"S3_SECRET_KEY\"),\n",
    "    s3_bucket=os.getenv(\"S3_BUCKET\"),\n",
    ")"
   ],
   "outputs": [],
   "metadata": {}
  },
  {
   "cell_type": "code",
   "execution_count": null,
   "source": [
    "fname = \"/home/kachau/Documents/aicoe-osc-demo/data/annotations/ESG/20201030 1Qbit aggregated_annotations_needs_correction.xlsx\"\n",
    "with open(fname, 'rb') as f:\n",
    "    s3_obj = s3c.s3_resource.Object(bucket_name=s3c.bucket, key=\"corpdata/ESG/annotations/20201030 1Qbit aggregated_annotations_needs_correction.xlsx\")\n",
    "    status = s3_obj.put(Body=f)\n",
    "status"
   ],
   "outputs": [],
   "metadata": {}
  },
  {
   "cell_type": "code",
   "execution_count": null,
   "source": [
    "fname = \"/home/kachau/Documents/aicoe-osc-demo/data/curation/esg_TEXT_dataset.csv\"\n",
    "with open(fname, 'rb') as f:\n",
    "    s3_obj = s3c.s3_resource.Object(bucket_name=s3c.bucket, key=\"corpdata/ESG/curation/esg_TEXT_dataset.csv\")\n",
    "    status = s3_obj.put(Body=f)\n",
    "status"
   ],
   "outputs": [],
   "metadata": {}
  },
  {
   "cell_type": "code",
   "execution_count": null,
   "source": [
    "fname = \"/home/kachau/Documents/aicoe-osc-demo/data/extraction/sustainability-report-2019.json\"\n",
    "with open(fname, 'rb') as f:\n",
    "    s3_obj = s3c.s3_resource.Object(bucket_name=s3c.bucket, key=\"corpdata/ESG/extraction/sustainability-report-2019.json\")\n",
    "    status = s3_obj.put(Body=f)\n",
    "status"
   ],
   "outputs": [],
   "metadata": {}
  },
  {
   "cell_type": "code",
   "execution_count": null,
   "source": [
    "fname =     \"/home/kachau/Documents/aicoe-osc-demo/data/kpi_mapping/ESG/kpi_mapping.csv\"\n",
    "with open(fname, 'rb') as f:\n",
    "    s3_obj = s3c.s3_resource.Object(bucket_name=s3c.bucket, key=\"corpdata/ESG/kpi_mapping/kpi_mapping.csv\")\n",
    "    status = s3_obj.put(Body=f)\n",
    "status"
   ],
   "outputs": [],
   "metadata": {}
  },
  {
   "cell_type": "code",
   "execution_count": null,
   "source": [
    "fname = \"/home/kachau/Documents/aicoe-osc-demo/data/pdfs/ESG/sustainability-report-2019.pdf\"\n",
    "with open(fname, 'rb') as f:\n",
    "    s3_obj = s3c.s3_resource.Object(bucket_name=s3c.bucket, key=\"corpdata/ESG/pdfs/sustainability-report-2019.pdf\")\n",
    "    status = s3_obj.put(Body=f)\n",
    "status"
   ],
   "outputs": [],
   "metadata": {}
  },
  {
   "cell_type": "code",
   "execution_count": null,
   "source": [
    "s3client = boto3.client(\n",
    "    \"s3\",\n",
    "    endpoint_url=os.getenv(\"S3_ENDPOINT\"),\n",
    "    aws_access_key_id=os.getenv(\"S3_ACCESS_KEY\"),\n",
    "    aws_secret_access_key=os.getenv(\"S3_SECRET_KEY\"),\n",
    ")"
   ],
   "outputs": [],
   "metadata": {}
  },
  {
   "cell_type": "code",
   "execution_count": null,
   "source": [
    "ret = s3client.list_objects_v2(Bucket=os.getenv(\"S3_BUCKET\"))\n",
    "# ret[\"Contents\"]"
   ],
   "outputs": [],
   "metadata": {}
  }
 ],
 "metadata": {
  "orig_nbformat": 4,
  "language_info": {
   "name": "python",
   "version": "3.8.11",
   "mimetype": "text/x-python",
   "codemirror_mode": {
    "name": "ipython",
    "version": 3
   },
   "pygments_lexer": "ipython3",
   "nbconvert_exporter": "python",
   "file_extension": ".py"
  },
  "kernelspec": {
   "name": "python3",
   "display_name": "Python 3.8.11 64-bit ('aicoe-osc-demo-WcnGX8it': pipenv)"
  },
  "interpreter": {
   "hash": "b8edbc099b1e3962a1cd98913d430c1f3c967398573c0a27e37d75e269a711f1"
  }
 },
 "nbformat": 4,
 "nbformat_minor": 2
}