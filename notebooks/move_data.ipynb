{
 "cells": [
  {
   "cell_type": "markdown",
   "id": "8a1b9496-4187-40e1-85fa-b8111c971b8e",
   "metadata": {},
   "source": [
    "# Move data \n",
    "In this notebook, we take all the relevant data for the inference notebooks and pipeline stored in `ocp-odh-os-demo-s3` bucket and move it to the `redhat-osc-physical-landing` bucket."
   ]
  },
  {
   "cell_type": "code",
   "execution_count": null,
   "id": "2a73004a-934e-4cbe-bf5d-301dac96e8f8",
   "metadata": {},
   "outputs": [],
   "source": [
    "from src.data.s3_communication import S3Communication\n",
    "import os\n",
    "import pathlib\n",
    "from dotenv import load_dotenv"
   ]
  },
  {
   "cell_type": "code",
   "execution_count": null,
   "id": "7bfc74b4-47e7-46ca-986e-7c34f73e6ea4",
   "metadata": {},
   "outputs": [],
   "source": [
    "dotenv_dir = os.environ.get(\n",
    "    \"CREDENTIAL_DOTENV_DIR\", os.environ.get(\"PWD\", \"/opt/app-root/src\")\n",
    ")\n",
    "dotenv_path = pathlib.Path(dotenv_dir) / \"credentials.env\"\n",
    "if os.path.exists(dotenv_path):\n",
    "    load_dotenv(dotenv_path=dotenv_path, override=True)"
   ]
  },
  {
   "cell_type": "markdown",
   "id": "8e1438eb-2efa-4b1a-a90f-34a39a68adc9",
   "metadata": {},
   "source": [
    "### Red Hat Physical landing bucket (`redhat-osc-physical-landing`) s3 connector"
   ]
  },
  {
   "cell_type": "code",
   "execution_count": null,
   "id": "4944bf4d-4863-4e8d-b4a8-4ade481217a7",
   "metadata": {},
   "outputs": [],
   "source": [
    "# init s3 connector\n",
    "s3c = S3Communication(\n",
    "    s3_endpoint_url=os.getenv(\"S3_ENDPOINT\"),\n",
    "    aws_access_key_id=os.getenv(\"AWS_ACCESS_KEY_ID\"),\n",
    "    aws_secret_access_key=os.getenv(\"AWS_SECRET_ACCESS_KEY\"),\n",
    "    s3_bucket=os.getenv(\"S3_BUCKET\"),\n",
    ")"
   ]
  },
  {
   "cell_type": "markdown",
   "id": "794b283e-310a-4995-8504-db3a2c9c9372",
   "metadata": {},
   "source": [
    "### Trino bucket (`ocp-odh-os-demo-s3`) s3 connector"
   ]
  },
  {
   "cell_type": "code",
   "execution_count": null,
   "id": "e931a663-7ebe-4855-bc02-33e793a94fd8",
   "metadata": {},
   "outputs": [],
   "source": [
    "s3c_trino = S3Communication(\n",
    "    s3_endpoint_url=os.getenv(\"Trino_S3_ENDPOINT\"),\n",
    "    aws_access_key_id=os.getenv(\"Trino_ACCESS_KEY\"),\n",
    "    aws_secret_access_key=os.getenv(\"Trino_SECRET_KEY\"),\n",
    "    s3_bucket=os.getenv(\"Trino_S3_BUCKET\"),\n",
    ")"
   ]
  },
  {
   "cell_type": "markdown",
   "id": "7b26887a-bd17-4545-8f20-c03ea831135d",
   "metadata": {},
   "source": [
    "### Download relevant files"
   ]
  },
  {
   "cell_type": "code",
   "execution_count": null,
   "id": "06ba910f-7503-4753-8299-a57851d7f17a",
   "metadata": {},
   "outputs": [],
   "source": [
    "# Download data pdfs\n",
    "s3c_trino.download_files_in_prefix_to_dir('corpdata/ESG/pipeline_run/samples_4/pdfs', \"./data/samples_4\")\n",
    "s3c_trino.download_files_in_prefix_to_dir('corpdata/ESG/pipeline_run/samples_10/pdfs', \"./data/samples_10\")"
   ]
  },
  {
   "cell_type": "code",
   "execution_count": null,
   "id": "529b0fde-da93-4be0-b588-4855ad885123",
   "metadata": {},
   "outputs": [],
   "source": [
    "# Download pretrained models\n",
    "s3c_trino.download_files_in_prefix_to_dir('corpdata/saved_models', \"./models\")"
   ]
  },
  {
   "cell_type": "code",
   "execution_count": null,
   "id": "8a66cdee-cc23-492e-a8af-259c343a1da9",
   "metadata": {},
   "outputs": [],
   "source": [
    "# Download kpi_mapping.csv\n",
    "s3c_trino.download_file_from_s3(\"./kpi_mapping.csv\", \"corpdata/ESG/kpi_mapping\", 'kpi_mapping.csv')"
   ]
  },
  {
   "cell_type": "markdown",
   "id": "2e1269fb-62de-46ef-a0e0-9509486ca85d",
   "metadata": {},
   "source": [
    "### Upload relevant files"
   ]
  },
  {
   "cell_type": "code",
   "execution_count": null,
   "id": "e73ab83d-cdeb-4e0b-9476-4d70190f3b13",
   "metadata": {},
   "outputs": [],
   "source": [
    "# Upload data pdfs\n",
    "s3c.upload_files_in_dir_to_prefix(\"./data/samples_4\", \"aicoe-osc-demo/pipeline_run/samples_4/pdfs\")\n",
    "s3c.upload_files_in_dir_to_prefix(\"./data/samples_10\", \"aicoe-osc-demo/pipeline_run/samples_10/pdfs\")"
   ]
  },
  {
   "cell_type": "code",
   "execution_count": null,
   "id": "433594d3-c8bd-4395-bd39-439c765cf95b",
   "metadata": {},
   "outputs": [],
   "source": [
    "# Upload pretrained models\n",
    "s3c.upload_files_in_dir_to_prefix(\"./models\", \"aicoe-osc-demo/saved_models\")"
   ]
  },
  {
   "cell_type": "code",
   "execution_count": null,
   "id": "58fdf1c9-b810-437c-988c-8d7d85d90ad2",
   "metadata": {},
   "outputs": [],
   "source": [
    "# Upload kpi_mapping.csv\n",
    "s3c.upload_file_to_s3(\"./kpi_mapping.csv\", \"aicoe-osc-demo/kpi_mapping\", \"kpi_mapping.csv\")"
   ]
  },
  {
   "cell_type": "markdown",
   "id": "708c091a-e507-4a40-acd4-29bbff8ea16d",
   "metadata": {},
   "source": [
    "# Conclusion\n",
    "The notebook uses `S3Communication` class to move data from one bucket to another."
   ]
  }
 ],
 "metadata": {
  "kernelspec": {
   "display_name": "Python 3 (ipykernel)",
   "language": "python",
   "name": "python3"
  },
  "language_info": {
   "codemirror_mode": {
    "name": "ipython",
    "version": 3
   },
   "file_extension": ".py",
   "mimetype": "text/x-python",
   "name": "python",
   "nbconvert_exporter": "python",
   "pygments_lexer": "ipython3",
   "version": "3.8.8"
  }
 },
 "nbformat": 4,
 "nbformat_minor": 5
}
