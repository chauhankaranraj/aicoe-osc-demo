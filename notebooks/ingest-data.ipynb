{
 "cells": [
  {
   "cell_type": "markdown",
   "id": "b88cfc9f-c474-449a-8239-4f1c2870df44",
   "metadata": {
    "tags": []
   },
   "source": [
    "# Data Ingestion\n",
    "\n",
    "This notebook is the first in the series of notebooks created for the _Nimbus_ demo. Here, we will demonstrate how you can programatically ingest raw data into a database for your data science projects. We will read a set of dataset files from an object store (Amazon S3), convert it into a format compatible with Trino, create a table for this schema, and finally upload the data to this table."
   ]
  },
  {
   "cell_type": "code",
   "execution_count": 1,
   "id": "eb7db366-d770-4fc6-a5c9-38fce449dfee",
   "metadata": {},
   "outputs": [],
   "source": [
    "import os\n",
    "import re\n",
    "import boto3\n",
    "import pathlib\n",
    "\n",
    "import trino\n",
    "\n",
    "import pandas as pd\n",
    "\n",
    "from dotenv import dotenv_values, load_dotenv"
   ]
  },
  {
   "cell_type": "code",
   "execution_count": 2,
   "id": "3a5ea709-cd5f-44ea-ac6b-cafef72e597f",
   "metadata": {},
   "outputs": [],
   "source": [
    "# Author: Erik Erlandson <eje@redhat.com>\n",
    "_wsdedup = re.compile(r\"\\s+\")\n",
    "_usdedup = re.compile(r\"__+\")\n",
    "_rmpunc = re.compile(r\"[,.()&$/+-]+\")\n",
    "# 63 seems to be a common max column name length\n",
    "def snakify(name, maxlen=63):\n",
    "    if isinstance(name, list):\n",
    "        return [snakify(e) for e in name]\n",
    "    w = name.casefold().rstrip().lstrip()\n",
    "    w = w.replace(\"-\", \"_\")\n",
    "    w = _rmpunc.sub(\"\", w)\n",
    "    w = _wsdedup.sub(\"_\", w)\n",
    "    w = _usdedup.sub(\"_\", w)\n",
    "    w = w.replace(\"average\", \"avg\")\n",
    "    w = w.replace(\"maximum\", \"max\")\n",
    "    w = w.replace(\"minimum\", \"min\")\n",
    "    w = w.replace(\"absolute\", \"abs\")\n",
    "    w = w.replace(\"source\", \"src\")\n",
    "    w = w.replace(\"distribution\", \"dist\")\n",
    "    # these are common in the sample names but unsure of standard abbv\n",
    "    #w = w.replace(\"inference\", \"inf\")\n",
    "    #w = w.replace(\"emissions\", \"emis\")\n",
    "    #w = w.replace(\"intensity\", \"int\")\n",
    "    #w = w.replace(\"reported\", \"rep\")\n",
    "    #w = w.replace(\"revenue\", \"rev\")\n",
    "    w = w[:maxlen] \n",
    "    return w\n",
    "\n",
    "def snakify_columns(df, inplace=False, maxlen=63):\n",
    "    icols = df.columns.to_list()\n",
    "    ocols = snakify(icols, maxlen=maxlen)\n",
    "    scols = set(ocols)\n",
    "    if (len(set(ocols)) < len(ocols)):\n",
    "        raise ValueError(\"remapped column names were not unique!\")\n",
    "    rename_map = dict(list(zip(icols,snakify(icols))))\n",
    "    return df.rename(columns=rename_map, inplace=inplace)\n",
    "\n",
    "_p2smap = {\n",
    "    'string': 'varchar',\n",
    "    'Float64': 'double',\n",
    "    'Int64': 'bigint'\n",
    "}\n",
    "\n",
    "def pandas_type_to_sql(pt):\n",
    "    st = _p2smap.get(pt)\n",
    "    if st is not None:\n",
    "        return st\n",
    "    raise ValueError(\"unexpected pandas column type '{pt}'\".format(pt=pt))\n",
    "\n",
    "# add ability to specify optional dict for specific fields?\n",
    "# if column name is present, use specified value?\n",
    "def generate_table_schema_pairs(df):\n",
    "    ptypes = [str(e) for e in df.dtypes.to_list()]\n",
    "    stypes = [pandas_type_to_sql(e) for e in ptypes]\n",
    "    pz = list(zip(df.columns.to_list(), stypes))\n",
    "    return \",\\n\".join([\"    {n} {t}\".format(n=e[0],t=e[1]) for e in pz])"
   ]
  },
  {
   "cell_type": "code",
   "execution_count": 3,
   "id": "901ee9ca-2d40-4482-b669-02821743278c",
   "metadata": {},
   "outputs": [],
   "source": [
    "# load environment variables\n",
    "dotenv_dir = os.environ.get('CREDENTIAL_DOTENV_DIR', os.environ.get('PWD', '/opt/app-root/src'))\n",
    "dotenv_path = pathlib.Path(dotenv_dir) / 'credentials.env'\n",
    "if os.path.exists(dotenv_path):\n",
    "    load_dotenv(dotenv_path=dotenv_path, override=True)"
   ]
  },
  {
   "cell_type": "code",
   "execution_count": 4,
   "id": "0a1fcc28-3a76-4469-88ab-f4131ccc45e4",
   "metadata": {},
   "outputs": [],
   "source": [
    "# Create an S3 client\n",
    "s3 = boto3.client(\n",
    "    service_name=\"s3\",\n",
    "    endpoint_url=os.environ['S3_ENDPOINT'],\n",
    "    aws_access_key_id=os.environ['S3_ACCESS_KEY'],\n",
    "    aws_secret_access_key=os.environ['S3_SECRET_KEY'],\n",
    ")"
   ]
  },
  {
   "cell_type": "code",
   "execution_count": 5,
   "id": "f6383f74-f62c-48b9-bdc8-14d34339ac57",
   "metadata": {},
   "outputs": [
    {
     "name": "stdout",
     "output_type": "stream",
     "text": [
      "<class 'pandas.core.frame.DataFrame'>\n",
      "RangeIndex: 19 entries, 0 to 18\n",
      "Data columns (total 15 columns):\n",
      " #   Column                              Non-Null Count  Dtype  \n",
      "---  ------                              --------------  -----  \n",
      " 0   company_name                        19 non-null     string \n",
      " 1   isin                                19 non-null     string \n",
      " 2   target_type                         19 non-null     string \n",
      " 3   scope                               19 non-null     string \n",
      " 4   coverage_s1                         16 non-null     Float64\n",
      " 5   coverage_s2                         15 non-null     Float64\n",
      " 6   coverage_s3                         4 non-null      Int64  \n",
      " 7   reduction_ambition                  19 non-null     Float64\n",
      " 8   base_year                           19 non-null     Int64  \n",
      " 9   end_year                            19 non-null     Int64  \n",
      " 10  start_year                          19 non-null     Int64  \n",
      " 11  base_year_ghg_emissions_s1_tco2e    1 non-null      string \n",
      " 12  base_year_ghg_emissions_s1s2_tco2e  14 non-null     string \n",
      " 13  base_year_ghg_emissions_s3_tco2e    18 non-null     string \n",
      " 14  achieved_reduction                  19 non-null     Float64\n",
      "dtypes: Float64(4), Int64(4), string(7)\n",
      "memory usage: 2.5 KB\n"
     ]
    }
   ],
   "source": [
    "obj = s3.get_object(\n",
    "    Bucket=os.environ['S3_BUCKET'],\n",
    "    Key='urgentem/UrgentemDataSampleEmissionsTargetsDec2020.csv')\n",
    "\n",
    "# load the raw file from the bucket\n",
    "dfEmissions = (pd.read_csv(obj['Body'])).convert_dtypes()\n",
    "\n",
    "# convert columns to specific data types\n",
    "dfEmissions = dfEmissions.convert_dtypes()\n",
    "\n",
    "# map column names to a form that works for SQL\n",
    "snakify_columns(dfEmissions, inplace=True)\n",
    "\n",
    "# a way to examine the structure of a pandas data frame\n",
    "dfEmissions.info(verbose=True)"
   ]
  },
  {
   "cell_type": "code",
   "execution_count": 6,
   "id": "c7a04271-1228-48bf-9298-4a2e2baa9506",
   "metadata": {},
   "outputs": [
    {
     "data": {
      "text/html": [
       "<div>\n",
       "<style scoped>\n",
       "    .dataframe tbody tr th:only-of-type {\n",
       "        vertical-align: middle;\n",
       "    }\n",
       "\n",
       "    .dataframe tbody tr th {\n",
       "        vertical-align: top;\n",
       "    }\n",
       "\n",
       "    .dataframe thead th {\n",
       "        text-align: right;\n",
       "    }\n",
       "</style>\n",
       "<table border=\"1\" class=\"dataframe\">\n",
       "  <thead>\n",
       "    <tr style=\"text-align: right;\">\n",
       "      <th></th>\n",
       "      <th>company_name</th>\n",
       "      <th>isin</th>\n",
       "      <th>target_type</th>\n",
       "      <th>scope</th>\n",
       "      <th>coverage_s1</th>\n",
       "      <th>coverage_s2</th>\n",
       "      <th>coverage_s3</th>\n",
       "      <th>reduction_ambition</th>\n",
       "      <th>base_year</th>\n",
       "      <th>end_year</th>\n",
       "      <th>start_year</th>\n",
       "      <th>base_year_ghg_emissions_s1_tco2e</th>\n",
       "      <th>base_year_ghg_emissions_s1s2_tco2e</th>\n",
       "      <th>base_year_ghg_emissions_s3_tco2e</th>\n",
       "      <th>achieved_reduction</th>\n",
       "    </tr>\n",
       "  </thead>\n",
       "  <tbody>\n",
       "    <tr>\n",
       "      <th>0</th>\n",
       "      <td>3M CO</td>\n",
       "      <td>US88579Y1010</td>\n",
       "      <td>Absolute</td>\n",
       "      <td>S1+S2</td>\n",
       "      <td>1.0</td>\n",
       "      <td>1.0</td>\n",
       "      <td>&lt;NA&gt;</td>\n",
       "      <td>0.5</td>\n",
       "      <td>2002</td>\n",
       "      <td>2025</td>\n",
       "      <td>2015</td>\n",
       "      <td>&lt;NA&gt;</td>\n",
       "      <td>18,300,000</td>\n",
       "      <td>91,500,000</td>\n",
       "      <td>0.3</td>\n",
       "    </tr>\n",
       "    <tr>\n",
       "      <th>1</th>\n",
       "      <td>ADIDAS AG</td>\n",
       "      <td>DE000A1EWWW0</td>\n",
       "      <td>Absolute</td>\n",
       "      <td>S1+S2</td>\n",
       "      <td>0.9</td>\n",
       "      <td>0.9</td>\n",
       "      <td>&lt;NA&gt;</td>\n",
       "      <td>0.15</td>\n",
       "      <td>2015</td>\n",
       "      <td>2020</td>\n",
       "      <td>2015</td>\n",
       "      <td>&lt;NA&gt;</td>\n",
       "      <td>59,132</td>\n",
       "      <td>295,660</td>\n",
       "      <td>1.0</td>\n",
       "    </tr>\n",
       "    <tr>\n",
       "      <th>2</th>\n",
       "      <td>BARCLAYS PLC</td>\n",
       "      <td>GB0031348658</td>\n",
       "      <td>Absolute</td>\n",
       "      <td>S1+S2</td>\n",
       "      <td>1.0</td>\n",
       "      <td>1.0</td>\n",
       "      <td>&lt;NA&gt;</td>\n",
       "      <td>0.37</td>\n",
       "      <td>2018</td>\n",
       "      <td>2025</td>\n",
       "      <td>2018</td>\n",
       "      <td>&lt;NA&gt;</td>\n",
       "      <td>282,593</td>\n",
       "      <td>1,412,965</td>\n",
       "      <td>0.0</td>\n",
       "    </tr>\n",
       "    <tr>\n",
       "      <th>3</th>\n",
       "      <td>DANONE</td>\n",
       "      <td>FR0000120644</td>\n",
       "      <td>Absolute</td>\n",
       "      <td>S1+S2</td>\n",
       "      <td>0.95</td>\n",
       "      <td>0.95</td>\n",
       "      <td>&lt;NA&gt;</td>\n",
       "      <td>0.3</td>\n",
       "      <td>2015</td>\n",
       "      <td>2030</td>\n",
       "      <td>2017</td>\n",
       "      <td>&lt;NA&gt;</td>\n",
       "      <td>1,681,235</td>\n",
       "      <td>8,406,175</td>\n",
       "      <td>0.68</td>\n",
       "    </tr>\n",
       "    <tr>\n",
       "      <th>4</th>\n",
       "      <td>EQUINOR ASA</td>\n",
       "      <td>NO0010096985</td>\n",
       "      <td>Absolute</td>\n",
       "      <td>S1</td>\n",
       "      <td>1.0</td>\n",
       "      <td>&lt;NA&gt;</td>\n",
       "      <td>&lt;NA&gt;</td>\n",
       "      <td>0.21</td>\n",
       "      <td>2016</td>\n",
       "      <td>2030</td>\n",
       "      <td>2017</td>\n",
       "      <td>9,329,201</td>\n",
       "      <td>&lt;NA&gt;</td>\n",
       "      <td>&lt;NA&gt;</td>\n",
       "      <td>0.06</td>\n",
       "    </tr>\n",
       "  </tbody>\n",
       "</table>\n",
       "</div>"
      ],
      "text/plain": [
       "   company_name          isin target_type  scope  coverage_s1  coverage_s2  \\\n",
       "0         3M CO  US88579Y1010    Absolute  S1+S2          1.0          1.0   \n",
       "1     ADIDAS AG  DE000A1EWWW0    Absolute  S1+S2          0.9          0.9   \n",
       "2  BARCLAYS PLC  GB0031348658    Absolute  S1+S2          1.0          1.0   \n",
       "3        DANONE  FR0000120644    Absolute  S1+S2         0.95         0.95   \n",
       "4   EQUINOR ASA  NO0010096985    Absolute     S1          1.0         <NA>   \n",
       "\n",
       "   coverage_s3  reduction_ambition  base_year  end_year  start_year  \\\n",
       "0         <NA>                 0.5       2002      2025        2015   \n",
       "1         <NA>                0.15       2015      2020        2015   \n",
       "2         <NA>                0.37       2018      2025        2018   \n",
       "3         <NA>                 0.3       2015      2030        2017   \n",
       "4         <NA>                0.21       2016      2030        2017   \n",
       "\n",
       "  base_year_ghg_emissions_s1_tco2e base_year_ghg_emissions_s1s2_tco2e  \\\n",
       "0                             <NA>                        18,300,000    \n",
       "1                             <NA>                            59,132    \n",
       "2                             <NA>                           282,593    \n",
       "3                             <NA>                         1,681,235    \n",
       "4                       9,329,201                                <NA>   \n",
       "\n",
       "  base_year_ghg_emissions_s3_tco2e  achieved_reduction  \n",
       "0                      91,500,000                  0.3  \n",
       "1                         295,660                  1.0  \n",
       "2                       1,412,965                  0.0  \n",
       "3                       8,406,175                 0.68  \n",
       "4                             <NA>                0.06  "
      ]
     },
     "execution_count": 6,
     "metadata": {},
     "output_type": "execute_result"
    }
   ],
   "source": [
    "dfEmissions.head()"
   ]
  },
  {
   "cell_type": "code",
   "execution_count": 7,
   "id": "a1cca3df-b67b-4a9a-9451-7fdac34883b1",
   "metadata": {},
   "outputs": [],
   "source": [
    "# parquet has multiple options for appending or updating data\n",
    "# including adding new files, or appending, sharding directory trees, etc\n",
    "dfEmissions.to_parquet('/tmp/emissions.parquet', index=False)\n",
    "s3.upload_file(\n",
    "    Bucket=os.environ['S3_BUCKET'],\n",
    "    Key='urgentem/trino/itr_emissions_sample_test/emissions_kachau.parquet',\n",
    "    Filename='/tmp/emissions.parquet'\n",
    ")"
   ]
  },
  {
   "cell_type": "markdown",
   "id": "b7dfe87c-1c43-4720-9cc1-ca144725a5c1",
   "metadata": {},
   "source": [
    "### FIXME: cant read parquet"
   ]
  },
  {
   "cell_type": "code",
   "execution_count": 8,
   "id": "a6823929-237a-4472-8d75-0e7e596a7f3a",
   "metadata": {},
   "outputs": [],
   "source": [
    "# import io"
   ]
  },
  {
   "cell_type": "code",
   "execution_count": 9,
   "id": "e44c985e-8e8c-4492-9807-1eebae18f87a",
   "metadata": {
    "tags": []
   },
   "outputs": [],
   "source": [
    "# buffer = io.BytesIO()\n",
    "# s3_object = s3.Object(os.environ['S3_BUCKET'], 'urgentem/trino/itr_emissions_sample_test/emissions_kachau.parquet')\n",
    "# s3_object.download_fileobj(buffer)"
   ]
  },
  {
   "cell_type": "code",
   "execution_count": 10,
   "id": "188fbb1b-d478-484f-b053-ea6b26539f1f",
   "metadata": {
    "tags": []
   },
   "outputs": [],
   "source": [
    "# obj = s3.get_object(\n",
    "#     Bucket=os.environ['S3_BUCKET'],\n",
    "#     Key='urgentem/trino/itr_emissions_sample_test/emissions_kachau.parquet')\n",
    "\n",
    "# # load the raw file from the bucket\n",
    "# dfEmissions = (pd.read_parquet(obj['Body'])).convert_dtypes()\n",
    "# dfEmissions.head()"
   ]
  },
  {
   "cell_type": "markdown",
   "id": "c36705dd-e567-4d79-bcc8-94af39bcc840",
   "metadata": {},
   "source": [
    "### END FIXME"
   ]
  },
  {
   "cell_type": "code",
   "execution_count": 11,
   "id": "01c30678-1d73-456d-9126-5e8bf290d34f",
   "metadata": {},
   "outputs": [],
   "source": [
    "conn = trino.dbapi.connect(\n",
    "    auth=trino.auth.BasicAuthentication(os.environ['TRINO_USER'], os.environ['TRINO_PASSWD']),\n",
    "    host=os.environ['TRINO_HOST'],\n",
    "    port=int(os.environ['TRINO_PORT']),\n",
    "    http_scheme='https',\n",
    "    verify=True,\n",
    ")\n",
    "cur = conn.cursor()"
   ]
  },
  {
   "cell_type": "code",
   "execution_count": 12,
   "id": "dc7e1ba5-7037-4c43-9212-961a3be4e032",
   "metadata": {},
   "outputs": [
    {
     "data": {
      "text/plain": [
       "[['company_name', 'varchar', '', ''],\n",
       " ['isin', 'varchar', '', ''],\n",
       " ['target_type', 'varchar', '', ''],\n",
       " ['scope', 'varchar', '', ''],\n",
       " ['coverage_s1', 'double', '', ''],\n",
       " ['coverage_s2', 'double', '', ''],\n",
       " ['coverage_s3', 'bigint', '', ''],\n",
       " ['reduction_ambition', 'double', '', ''],\n",
       " ['base_year', 'bigint', '', ''],\n",
       " ['end_year', 'bigint', '', ''],\n",
       " ['start_year', 'bigint', '', ''],\n",
       " ['base_year_ghg_emissions_s1_tco2e', 'varchar', '', ''],\n",
       " ['base_year_ghg_emissions_s1s2_tco2e', 'varchar', '', ''],\n",
       " ['base_year_ghg_emissions_s3_tco2e', 'varchar', '', ''],\n",
       " ['achieved_reduction', 'double', '', '']]"
      ]
     },
     "execution_count": 12,
     "metadata": {},
     "output_type": "execute_result"
    }
   ],
   "source": [
    "cur.execute('show columns from default.urgentem.itr_emissions_sample_test')\n",
    "cur.fetchall()"
   ]
  },
  {
   "cell_type": "code",
   "execution_count": 13,
   "id": "98b0a914-0876-40f5-8bd4-b1302ab60c66",
   "metadata": {},
   "outputs": [],
   "source": [
    "# # For this demonstration example, we just recreate table from scratch each time.\n",
    "# # in live data platform there will need to be policies and mechanisms for either\n",
    "# # appending new data, or overwriting old data, or saving off conditioned by a versioning number\n",
    "# # this is a data governance topic\n",
    "# cur.execute('drop table if exists hive.urgentem.itr_emissions_sample_test')\n",
    "# cur.fetchall()"
   ]
  },
  {
   "cell_type": "code",
   "execution_count": 14,
   "id": "9f0d0a5d-5eb6-4a78-afaa-21d234eaeb21",
   "metadata": {},
   "outputs": [],
   "source": [
    "# schema = generate_table_schema_pairs(dfEmissions)\n",
    "\n",
    "# tabledef = \"\"\"create table if not exists default.urgentem.itr_emissions_sample_test(\n",
    "# {schema}\n",
    "# ) with (\n",
    "#     format = 'parquet',\n",
    "#     external_location = 's3a://ocp-odh-os-demo-s3/urgentem/trino/itr_emissions_sample_test/'\n",
    "# )\"\"\".format(schema=schema)\n",
    "# print(tabledef)"
   ]
  },
  {
   "cell_type": "code",
   "execution_count": 15,
   "id": "705dd14c-fe61-4e19-a496-253d1a9bab2e",
   "metadata": {},
   "outputs": [],
   "source": [
    "# # tables created externally may not show up immediately in cloud-beaver\n",
    "# cur.execute(tabledef)\n",
    "# cur.fetchall()"
   ]
  },
  {
   "cell_type": "code",
   "execution_count": null,
   "id": "54ff5156-5571-4f9b-ae07-5df3cfd901d0",
   "metadata": {},
   "outputs": [],
   "source": []
  }
 ],
 "metadata": {
  "kernelspec": {
   "display_name": "Python 3 (ipykernel)",
   "language": "python",
   "name": "python3"
  },
  "language_info": {
   "codemirror_mode": {
    "name": "ipython",
    "version": 3
   },
   "file_extension": ".py",
   "mimetype": "text/x-python",
   "name": "python",
   "nbconvert_exporter": "python",
   "pygments_lexer": "ipython3",
   "version": "3.8.11"
  }
 },
 "nbformat": 4,
 "nbformat_minor": 5
}
